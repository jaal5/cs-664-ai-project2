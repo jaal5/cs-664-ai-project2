{
 "cells": [
  {
   "cell_type": "code",
   "execution_count": 10,
   "metadata": {},
   "outputs": [],
   "source": [
    "import keyboard\n",
    "import time"
   ]
  },
  {
   "cell_type": "code",
   "execution_count": 71,
   "metadata": {},
   "outputs": [],
   "source": [
    "lab = [[1,1,1,1,1,1,1,1,1,1,1,1,1,1],\n",
    "       [1,1,1,1,1,1,1,1,1,1,1,1,1,1],\n",
    "       [1,1,0,0,0,0,0,0,0,0,0,0,1,1],\n",
    "       [1,1,0,1,1,1,1,1,1,0,1,1,1,1],\n",
    "       [1,1,0,1,0,0,0,0,0,0,0,0,1,1],\n",
    "       [1,1,0,1,0,1,1,1,1,1,1,0,1,1],\n",
    "       [1,1,0,1,0,1,0,0,0,0,0,0,1,1],\n",
    "       [1,1,0,0,0,1,1,0,1,1,1,0,1,1],\n",
    "       [1,1,0,1,0,0,0,0,1,0,1,1,1,1],\n",
    "       [1,1,0,1,1,0,1,0,0,0,0,0,1,1],\n",
    "       [1,1,0,1,0,0,1,1,1,1,1,0,1,1],\n",
    "       [1,1,0,0,0,1,1,0,0,0,0,3,1,1],\n",
    "       [1,1,1,1,1,1,1,1,1,1,1,1,1,1],\n",
    "       [1,1,1,1,1,1,1,1,1,1,1,1,1,1]]"
   ]
  },
  {
   "cell_type": "code",
   "execution_count": 12,
   "metadata": {},
   "outputs": [],
   "source": [
    "def key_detect():\n",
    "    while True:  # making a loop\n",
    "        if keyboard.is_pressed('up arrow'):\n",
    "            print('Up!')\n",
    "            direction = 'up'\n",
    "            break  # finishing the loop\n",
    "        if keyboard.is_pressed('down arrow'):\n",
    "            print('Down!')\n",
    "            direction = 'down'\n",
    "            break  # finishing the loop\n",
    "        if keyboard.is_pressed('left arrow'):\n",
    "            print('Left!')\n",
    "            direction = 'left'\n",
    "            break  # finishing the loop\n",
    "        if keyboard.is_pressed('right arrow'):\n",
    "            print('Right!')\n",
    "            direction = 'right'\n",
    "            break  # finishing the loop\n",
    "        if keyboard.is_pressed('esc'):\n",
    "            print('Exit game')\n",
    "            direction = -1\n",
    "            break\n",
    "    return direction"
   ]
  },
  {
   "cell_type": "code",
   "execution_count": 129,
   "metadata": {},
   "outputs": [],
   "source": [
    "allneighb = []\n",
    "for y in range(-2,3):\n",
    "    for x in range(-2,3):\n",
    "        allneighb.append((x,y))\n",
    "\n",
    "class Field:\n",
    "    def __init__ (self, x, y):\n",
    "        self.x = x\n",
    "        self.y = y\n",
    "        self.neighbours = [ (x + xoff, y + yoff) for xoff, yoff in\n",
    "            ( (1, 0), (0, 1), (0, -1), (-1, 0) )\n",
    "            if lab [y + yoff] [x + xoff] != 1 ]\n",
    "        self.all_neighbours = [ (x + xoff, y + yoff) for xoff, yoff in\n",
    "            tuple(allneighb)]\n",
    "        \n",
    "        if len(self.neighbours) == 1:\n",
    "            self.fieldtype = 'dead end'\n",
    "        if len(self.neighbours) >= 3:\n",
    "            self.fieldtype = 'fork'\n",
    "        if len(self.neighbours) == 2:\n",
    "            neighbour1, neighbour2 = self.neighbours\n",
    "            x1, y1 = neighbour1\n",
    "            x2, y2 = neighbour2\n",
    "            if x1 != x2 and y1 != y2:\n",
    "                self.fieldtype = 'corner'\n",
    "            else:\n",
    "                self.fieldtype = 'straight path'\n",
    "        \n",
    "    def get_options(self):\n",
    "        self.options = []\n",
    "        for option in self.neighbours:\n",
    "            xopt = option[0]\n",
    "            yopt = option[1]\n",
    "            if xopt > self.x and yopt == self.y:\n",
    "                option = 'right'\n",
    "            if xopt < self.x and yopt == self.y:\n",
    "                option ='left'\n",
    "            if xopt == self.x and yopt < self.y:\n",
    "                option ='up'\n",
    "            if xopt == self.x and yopt > self.y:\n",
    "                option = 'down'\n",
    "            self.options.append(option)\n",
    "        return self.options\n",
    "\n",
    "    def __repr__ (self):\n",
    "        return '{}: ({})'.format ( (self.x, self.y), self.neighbours)\n",
    "    \n",
    "fields = {}\n",
    "for y in range (14):\n",
    "    for x in range (14):\n",
    "        if lab [y] [x]: continue\n",
    "        fields [x, y] = Field (x, y)"
   ]
  },
  {
   "cell_type": "code",
   "execution_count": 106,
   "metadata": {},
   "outputs": [],
   "source": []
  },
  {
   "cell_type": "code",
   "execution_count": 130,
   "metadata": {},
   "outputs": [
    {
     "name": "stdout",
     "output_type": "stream",
     "text": [
      "(2, 2) corner\n",
      "(3, 2) straight path\n",
      "(4, 2) straight path\n",
      "(5, 2) straight path\n",
      "(6, 2) straight path\n",
      "(7, 2) straight path\n",
      "(8, 2) straight path\n",
      "(9, 2) fork\n",
      "(10, 2) straight path\n",
      "(11, 2) dead end\n",
      "(2, 3) straight path\n",
      "(9, 3) straight path\n",
      "(2, 4) straight path\n",
      "(4, 4) corner\n",
      "(5, 4) straight path\n",
      "(6, 4) straight path\n",
      "(7, 4) straight path\n",
      "(8, 4) straight path\n",
      "(9, 4) fork\n",
      "(10, 4) straight path\n",
      "(11, 4) corner\n",
      "(2, 5) straight path\n",
      "(4, 5) straight path\n",
      "(11, 5) straight path\n",
      "(2, 6) straight path\n",
      "(4, 6) straight path\n",
      "(6, 6) dead end\n",
      "(7, 6) fork\n",
      "(8, 6) straight path\n",
      "(9, 6) straight path\n",
      "(10, 6) straight path\n",
      "(11, 6) fork\n",
      "(2, 7) fork\n",
      "(3, 7) straight path\n",
      "(4, 7) fork\n",
      "(7, 7) straight path\n",
      "(11, 7) dead end\n",
      "(2, 8) straight path\n",
      "(4, 8) corner\n",
      "(5, 8) fork\n",
      "(6, 8) straight path\n",
      "(7, 8) fork\n",
      "(9, 8) dead end\n",
      "(2, 9) straight path\n",
      "(5, 9) straight path\n",
      "(7, 9) corner\n",
      "(8, 9) straight path\n",
      "(9, 9) fork\n",
      "(10, 9) straight path\n",
      "(11, 9) corner\n",
      "(2, 10) straight path\n",
      "(4, 10) corner\n",
      "(5, 10) corner\n",
      "(11, 10) straight path\n",
      "(2, 11) corner\n",
      "(3, 11) straight path\n",
      "(4, 11) corner\n",
      "(7, 11) dead end\n",
      "(8, 11) straight path\n",
      "(9, 11) straight path\n",
      "(10, 11) straight path\n"
     ]
    }
   ],
   "source": [
    "for field in fields:\n",
    "    print(field,Field(field[0],field[1]).fieldtype)"
   ]
  },
  {
   "cell_type": "code",
   "execution_count": 49,
   "metadata": {},
   "outputs": [],
   "source": [
    "def move(position,direction):\n",
    "    if direction == 'up':\n",
    "        xdir = 0\n",
    "        ydir = -1\n",
    "    if direction == 'down':\n",
    "        xdir = 0\n",
    "        ydir = 1\n",
    "    if direction == 'right':\n",
    "        xdir = 1\n",
    "        ydir = 0\n",
    "    if direction == 'left':\n",
    "        xdir = -1\n",
    "        ydir = 0\n",
    "    \n",
    "    # move if possible\n",
    "    possibilities = Node(position.x,position.y).neighbours\n",
    "    if (position.x + xdir, position.y + ydir) in possibilities:\n",
    "        position_new = Node(position.x + xdir, position.y + ydir)\n",
    "        print(position)\n",
    "        return position_new, position_new\n",
    "    else:\n",
    "        position_new = position\n",
    "        return 'invalid', position_new"
   ]
  },
  {
   "cell_type": "code",
   "execution_count": 16,
   "metadata": {},
   "outputs": [],
   "source": [
    "def walk_to_fork(position,direction):\n",
    "    while True:\n",
    "        position, position_fork = move(position,direction)\n",
    "        if position == 'invalid':\n",
    "            print('invalid move')\n",
    "            break\n",
    "        if len(position.neighbours) > 2:\n",
    "            print('this is a fork')\n",
    "            break\n",
    "    return position_fork"
   ]
  },
  {
   "cell_type": "code",
   "execution_count": 39,
   "metadata": {},
   "outputs": [],
   "source": [
    "def step_forward(position,direction):\n",
    "    if direction == 'up':\n",
    "        xdir = 0\n",
    "        ydir = -1\n",
    "    if direction == 'down':\n",
    "        xdir = 0\n",
    "        ydir = 1\n",
    "    if direction == 'right':\n",
    "        xdir = 1\n",
    "        ydir = 0\n",
    "    if direction == 'left':\n",
    "        xdir = -1\n",
    "        ydir = 0\n",
    "    \n",
    "    position_old = copy.deepcopy(position)\n",
    "    \n",
    "    if len(position.get_options()) == 1:\n",
    "        print('dead end')\n",
    "        return position\n",
    "    if len(position.get_options()) == 2:\n",
    "        for option."
   ]
  },
  {
   "cell_type": "code",
   "execution_count": 54,
   "metadata": {},
   "outputs": [
    {
     "data": {
      "text/plain": [
       "['left']"
      ]
     },
     "execution_count": 54,
     "metadata": {},
     "output_type": "execute_result"
    }
   ],
   "source": [
    "position.get_options()"
   ]
  },
  {
   "cell_type": "code",
   "execution_count": 128,
   "metadata": {},
   "outputs": [
    {
     "data": {
      "text/plain": [
       "1"
      ]
     },
     "execution_count": 128,
     "metadata": {},
     "output_type": "execute_result"
    }
   ],
   "source": [
    "position = Field(11,2)\n",
    "len(position.get_options())"
   ]
  },
  {
   "cell_type": "code",
   "execution_count": 62,
   "metadata": {},
   "outputs": [
    {
     "name": "stdout",
     "output_type": "stream",
     "text": [
      "(2, 2): ([(3, 2), (2, 3)])\n",
      "(3, 2): ([(4, 2), (2, 2)])\n",
      "(4, 2): ([(5, 2), (3, 2)])\n",
      "(5, 2): ([(6, 2), (4, 2)])\n",
      "(6, 2): ([(7, 2), (5, 2)])\n",
      "(7, 2): ([(8, 2), (6, 2)])\n",
      "(8, 2): ([(9, 2), (7, 2)])\n",
      "this is a fork\n",
      "(2, 2): ([(3, 2), (2, 3)])\n",
      "(2, 3): ([(2, 4), (2, 2)])\n",
      "(2, 4): ([(2, 5), (2, 3)])\n",
      "(2, 5): ([(2, 6), (2, 4)])\n",
      "(2, 6): ([(2, 7), (2, 5)])\n",
      "this is a fork\n",
      "from this position you can go to: [(9, 2), (2, 7)]\n"
     ]
    }
   ],
   "source": [
    "origin = nodes[2,2]\n",
    "next_fork = []\n",
    "for option in origin.get_options():\n",
    "    position = walk_to_fork(origin, option)\n",
    "    next_fork.append((position.x,position.y))\n",
    "print('from this position you can go to:', next_fork)"
   ]
  },
  {
   "cell_type": "code",
   "execution_count": 60,
   "metadata": {},
   "outputs": [
    {
     "data": {
      "text/plain": [
       "(9, 2): ([(10, 2), (9, 3), (8, 2)])"
      ]
     },
     "execution_count": 60,
     "metadata": {},
     "output_type": "execute_result"
    }
   ],
   "source": [
    "origin"
   ]
  },
  {
   "cell_type": "code",
   "execution_count": 63,
   "metadata": {},
   "outputs": [
    {
     "data": {
      "text/plain": [
       "(2, 7): ([(3, 7), (2, 8), (2, 6)])"
      ]
     },
     "execution_count": 63,
     "metadata": {},
     "output_type": "execute_result"
    }
   ],
   "source": [
    "position"
   ]
  },
  {
   "cell_type": "code",
   "execution_count": 73,
   "metadata": {},
   "outputs": [
    {
     "data": {
      "image/png": "[encoded data removed]",
      "text/plain": [
       "<Figure size 720x360 with 1 Axes>"
      ]
     },
     "metadata": {
      "needs_background": "light"
     },
     "output_type": "display_data"
    },
    {
     "name": "stdout",
     "output_type": "stream",
     "text": [
      "Exit game\n"
     ]
    },
    {
     "ename": "UnboundLocalError",
     "evalue": "local variable 'xdir' referenced before assignment",
     "output_type": "error",
     "traceback": [
      "\u001b[1;31m---------------------------------------------------------------------------\u001b[0m",
      "\u001b[1;31mUnboundLocalError\u001b[0m                         Traceback (most recent call last)",
      "\u001b[1;32m<ipython-input-73-48359db5ad06>\u001b[0m in \u001b[0;36m<module>\u001b[1;34m\u001b[0m\n\u001b[0;32m      3\u001b[0m \u001b[1;32mwhile\u001b[0m \u001b[1;32mTrue\u001b[0m\u001b[1;33m:\u001b[0m\u001b[1;33m\u001b[0m\u001b[1;33m\u001b[0m\u001b[0m\n\u001b[0;32m      4\u001b[0m     \u001b[0mdirection\u001b[0m \u001b[1;33m=\u001b[0m \u001b[0mkey_detect\u001b[0m\u001b[1;33m(\u001b[0m\u001b[1;33m)\u001b[0m\u001b[1;33m\u001b[0m\u001b[1;33m\u001b[0m\u001b[0m\n\u001b[1;32m----> 5\u001b[1;33m     \u001b[0mposition\u001b[0m \u001b[1;33m=\u001b[0m \u001b[0mwalk_to_fork\u001b[0m\u001b[1;33m(\u001b[0m\u001b[0mposition\u001b[0m\u001b[1;33m,\u001b[0m\u001b[0mdirection\u001b[0m\u001b[1;33m)\u001b[0m\u001b[1;33m\u001b[0m\u001b[1;33m\u001b[0m\u001b[0m\n\u001b[0m\u001b[0;32m      6\u001b[0m     \u001b[0mclear_output\u001b[0m\u001b[1;33m(\u001b[0m\u001b[0mwait\u001b[0m\u001b[1;33m=\u001b[0m\u001b[1;32mTrue\u001b[0m\u001b[1;33m)\u001b[0m\u001b[1;33m\u001b[0m\u001b[1;33m\u001b[0m\u001b[0m\n\u001b[0;32m      7\u001b[0m     \u001b[0mplot_board\u001b[0m\u001b[1;33m(\u001b[0m\u001b[0mposition\u001b[0m\u001b[1;33m,\u001b[0m\u001b[0mlab\u001b[0m\u001b[1;33m)\u001b[0m\u001b[1;33m\u001b[0m\u001b[1;33m\u001b[0m\u001b[0m\n",
      "\u001b[1;32m<ipython-input-16-78cacec3c66f>\u001b[0m in \u001b[0;36mwalk_to_fork\u001b[1;34m(position, direction)\u001b[0m\n\u001b[0;32m      1\u001b[0m \u001b[1;32mdef\u001b[0m \u001b[0mwalk_to_fork\u001b[0m\u001b[1;33m(\u001b[0m\u001b[0mposition\u001b[0m\u001b[1;33m,\u001b[0m\u001b[0mdirection\u001b[0m\u001b[1;33m)\u001b[0m\u001b[1;33m:\u001b[0m\u001b[1;33m\u001b[0m\u001b[1;33m\u001b[0m\u001b[0m\n\u001b[0;32m      2\u001b[0m     \u001b[1;32mwhile\u001b[0m \u001b[1;32mTrue\u001b[0m\u001b[1;33m:\u001b[0m\u001b[1;33m\u001b[0m\u001b[1;33m\u001b[0m\u001b[0m\n\u001b[1;32m----> 3\u001b[1;33m         \u001b[0mposition\u001b[0m\u001b[1;33m,\u001b[0m \u001b[0mposition_fork\u001b[0m \u001b[1;33m=\u001b[0m \u001b[0mmove\u001b[0m\u001b[1;33m(\u001b[0m\u001b[0mposition\u001b[0m\u001b[1;33m,\u001b[0m\u001b[0mdirection\u001b[0m\u001b[1;33m)\u001b[0m\u001b[1;33m\u001b[0m\u001b[1;33m\u001b[0m\u001b[0m\n\u001b[0m\u001b[0;32m      4\u001b[0m         \u001b[1;32mif\u001b[0m \u001b[0mposition\u001b[0m \u001b[1;33m==\u001b[0m \u001b[1;34m'invalid'\u001b[0m\u001b[1;33m:\u001b[0m\u001b[1;33m\u001b[0m\u001b[1;33m\u001b[0m\u001b[0m\n\u001b[0;32m      5\u001b[0m             \u001b[0mprint\u001b[0m\u001b[1;33m(\u001b[0m\u001b[1;34m'invalid move'\u001b[0m\u001b[1;33m)\u001b[0m\u001b[1;33m\u001b[0m\u001b[1;33m\u001b[0m\u001b[0m\n",
      "\u001b[1;32m<ipython-input-49-d62f7bf6769d>\u001b[0m in \u001b[0;36mmove\u001b[1;34m(position, direction)\u001b[0m\n\u001b[0;32m     15\u001b[0m     \u001b[1;31m# move if possible\u001b[0m\u001b[1;33m\u001b[0m\u001b[1;33m\u001b[0m\u001b[1;33m\u001b[0m\u001b[0m\n\u001b[0;32m     16\u001b[0m     \u001b[0mpossibilities\u001b[0m \u001b[1;33m=\u001b[0m \u001b[0mNode\u001b[0m\u001b[1;33m(\u001b[0m\u001b[0mposition\u001b[0m\u001b[1;33m.\u001b[0m\u001b[0mx\u001b[0m\u001b[1;33m,\u001b[0m\u001b[0mposition\u001b[0m\u001b[1;33m.\u001b[0m\u001b[0my\u001b[0m\u001b[1;33m)\u001b[0m\u001b[1;33m.\u001b[0m\u001b[0mneighbours\u001b[0m\u001b[1;33m\u001b[0m\u001b[1;33m\u001b[0m\u001b[0m\n\u001b[1;32m---> 17\u001b[1;33m     \u001b[1;32mif\u001b[0m \u001b[1;33m(\u001b[0m\u001b[0mposition\u001b[0m\u001b[1;33m.\u001b[0m\u001b[0mx\u001b[0m \u001b[1;33m+\u001b[0m \u001b[0mxdir\u001b[0m\u001b[1;33m,\u001b[0m \u001b[0mposition\u001b[0m\u001b[1;33m.\u001b[0m\u001b[0my\u001b[0m \u001b[1;33m+\u001b[0m \u001b[0mydir\u001b[0m\u001b[1;33m)\u001b[0m \u001b[1;32min\u001b[0m \u001b[0mpossibilities\u001b[0m\u001b[1;33m:\u001b[0m\u001b[1;33m\u001b[0m\u001b[1;33m\u001b[0m\u001b[0m\n\u001b[0m\u001b[0;32m     18\u001b[0m         \u001b[0mposition_new\u001b[0m \u001b[1;33m=\u001b[0m \u001b[0mNode\u001b[0m\u001b[1;33m(\u001b[0m\u001b[0mposition\u001b[0m\u001b[1;33m.\u001b[0m\u001b[0mx\u001b[0m \u001b[1;33m+\u001b[0m \u001b[0mxdir\u001b[0m\u001b[1;33m,\u001b[0m \u001b[0mposition\u001b[0m\u001b[1;33m.\u001b[0m\u001b[0my\u001b[0m \u001b[1;33m+\u001b[0m \u001b[0mydir\u001b[0m\u001b[1;33m)\u001b[0m\u001b[1;33m\u001b[0m\u001b[1;33m\u001b[0m\u001b[0m\n\u001b[0;32m     19\u001b[0m         \u001b[0mprint\u001b[0m\u001b[1;33m(\u001b[0m\u001b[0mposition\u001b[0m\u001b[1;33m)\u001b[0m\u001b[1;33m\u001b[0m\u001b[1;33m\u001b[0m\u001b[0m\n",
      "\u001b[1;31mUnboundLocalError\u001b[0m: local variable 'xdir' referenced before assignment"
     ]
    }
   ],
   "source": [
    "from IPython.display import clear_output\n",
    "plot_board(position,lab)\n",
    "while True:\n",
    "    direction = key_detect()\n",
    "    position = walk_to_fork(position,direction)\n",
    "    clear_output(wait=True)\n",
    "    plot_board(position,lab)\n",
    "    time.sleep(1)"
   ]
  },
  {
   "cell_type": "code",
   "execution_count": 65,
   "metadata": {},
   "outputs": [],
   "source": [
    "def print_board(position,lab):\n",
    "    for y in range (12):\n",
    "        print(\"\\n\", end=\"\")\n",
    "        for x in range (12):\n",
    "            if y == position.y and x == position.x:\n",
    "                print('D', end=\"\")\n",
    "            elif lab[y][x] == 1:\n",
    "                print('#', end=\"\")\n",
    "            elif lab[y][x] == 0:\n",
    "                print(' ', end=\"\")"
   ]
  },
  {
   "cell_type": "code",
   "execution_count": 70,
   "metadata": {},
   "outputs": [],
   "source": [
    "%matplotlib inline\n",
    "import matplotlib.pyplot as plt\n",
    "import copy\n",
    "def plot_board(position,lab):\n",
    "    try:\n",
    "        fig.clear()\n",
    "    except:\n",
    "        fig = plt.figure(figsize=(10,5))\n",
    "\n",
    "        ax1 = fig.add_subplot(1,1,1)\n",
    "\n",
    "        # Make a 9x9 grid...\n",
    "        image = copy.deepcopy(lab)\n",
    "        image[position.y][position.x] = 2\n",
    "        image[11][11] = 3\n",
    "        ax1.matshow(image)\n",
    "        plt.show()"
   ]
  },
  {
   "cell_type": "code",
   "execution_count": 291,
   "metadata": {},
   "outputs": [],
   "source": [
    "%matplotlib inline\n",
    "import matplotlib.pyplot as plt\n",
    "def plot_board_hidden(position,lab):\n",
    "    try:\n",
    "        fig.clear()\n",
    "    except:\n",
    "        fig = plt.figure(figsize=(10,5))\n",
    "\n",
    "        ax1 = fig.add_subplot(1,1,1)\n",
    "\n",
    "        image = np.ones((14,14),dtype=int)\n",
    "        for (x,y) in position.all_neighbours:\n",
    "            image[y][x] = lab[y][x]\n",
    "        image[position.y][position.x] = 2\n",
    "        \n",
    "        ax1.matshow(image)\n",
    "        plt.show()"
   ]
  },
  {
   "cell_type": "code",
   "execution_count": null,
   "metadata": {},
   "outputs": [],
   "source": []
  }
 ],
 "metadata": {
  "kernelspec": {
   "display_name": "Python 3",
   "language": "python",
   "name": "python3"
  },
  "language_info": {
   "codemirror_mode": {
    "name": "ipython",
    "version": 3
   },
   "file_extension": ".py",
   "mimetype": "text/x-python",
   "name": "python",
   "nbconvert_exporter": "python",
   "pygments_lexer": "ipython3",
   "version": "3.7.4"
  }
 },
 "nbformat": 4,
 "nbformat_minor": 2
}
