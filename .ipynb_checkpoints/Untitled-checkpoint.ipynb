{
 "cells": [
  {
   "cell_type": "code",
   "execution_count": 33,
   "metadata": {},
   "outputs": [],
   "source": [
    "lab = [[1,1,1,1,1,1,1,1,1,1,1,1],[1,0,0,0,0,0,0,0,0,0,0,1],[1,0,1,1,1,1,1,1,0,1,1,1],[1,0,1,0,0,0,0,0,0,0,0,1],[1,0,1,0,1,1,1,1,1,1,0,1],[1,0,1,0,1,0,0,0,0,0,0,1],[1,0,0,0,1,1,0,1,1,1,0,1],[1,0,1,0,0,0,0,1,0,1,1,1],[1,0,1,1,0,1,0,0,0,0,0,1],[1,0,1,0,0,1,1,1,1,1,0,1],[1,0,0,0,1,1,0,0,0,0,0,1],[1,1,1,1,1,1,1,1,1,1,1,1]]\n",
    "\n",
    "class Node:\n",
    "    def __init__ (self, x, y):\n",
    "        self.x = x\n",
    "        self.y = y\n",
    "        self.neighbours = [ (x + xoff, y + yoff) for xoff, yoff in\n",
    "            ( (1, 0), (0, 1), (0, -1), (-1, 0) )\n",
    "            if not lab [y + yoff] [x + xoff] ]\n",
    "        self.distance = ...\n",
    "        self.path = ...\n",
    "        self.visited = False\n",
    "\n",
    "    def __repr__ (self):\n",
    "        return '{}: ({})'.format ( (self.x, self.y), self.neighbours)\n",
    "\n",
    "nodes = {}\n",
    "for y in range (12):\n",
    "    for x in range (12):\n",
    "        if lab [y] [x]: continue\n",
    "        nodes [x, y] = Node (x, y)\n",
    "\n",
    "current = nodes [1, 1]\n",
    "current.distance = 0\n",
    "current.path = []\n",
    "unvisited = set (nodes.keys () )\n"
   ]
  },
  {
   "cell_type": "code",
   "execution_count": 35,
   "metadata": {},
   "outputs": [
    {
     "name": "stdout",
     "output_type": "stream",
     "text": [
      "[(1, 1), (1, 2), (1, 3), (1, 4), (1, 5), (1, 6), (2, 6), (3, 6), (3, 7), (4, 7), (5, 7), (6, 7), (6, 8), (7, 8), (8, 8), (9, 8), (10, 8), (10, 9)]\n",
      "SSSSSEESEEESEEEESS"
     ]
    }
   ],
   "source": [
    "while True:\n",
    "    dist = current.distance + 1\n",
    "    for nx, ny in current.neighbours:\n",
    "        if (nx, ny) not in unvisited: continue\n",
    "        neighbour = nodes [nx, ny]\n",
    "        if neighbour.distance is ... or neighbour.distance > dist:\n",
    "            neighbour.distance = dist\n",
    "            neighbour.path = current.path + [ (current.x, current.y) ]\n",
    "    current.visited = True\n",
    "    unvisited.remove ( (current.x, current.y) )\n",
    "    if not unvisited: break\n",
    "    current = sorted ( [node for node in nodes.values ()\n",
    "        if not node.visited and node.distance is not ...],\n",
    "        key = lambda node: node.distance) [0]\n",
    "\n",
    "print (nodes [10, 10].path)\n",
    "path = nodes [10, 10].path + [ (10, 10) ]\n",
    "for (ax, ay), (bx, by) in zip (path, path [1:] ):\n",
    "    if ax == bx and ay > by: print ('N', end = '')\n",
    "    if ax == bx and ay < by: print ('S', end = '')\n",
    "    if ay == by and ax > bx: print ('W', end = '')\n",
    "    if ay == by and ax < bx: print ('E', end = '')"
   ]
  },
  {
   "cell_type": "code",
   "execution_count": 36,
   "metadata": {},
   "outputs": [
    {
     "data": {
      "text/plain": [
       "set()"
      ]
     },
     "execution_count": 36,
     "metadata": {},
     "output_type": "execute_result"
    }
   ],
   "source": [
    "unvisited"
   ]
  },
  {
   "cell_type": "code",
   "execution_count": 27,
   "metadata": {},
   "outputs": [
    {
     "data": {
      "text/plain": [
       "[[1, 1, 1, 1, 1, 1, 1, 1, 1, 1, 1, 1],\n",
       " [1, 0, 0, 0, 0, 0, 0, 0, 0, 0, 0, 1],\n",
       " [1, 0, 1, 1, 1, 1, 1, 1, 0, 1, 1, 1],\n",
       " [1, 0, 1, 0, 0, 0, 0, 0, 0, 0, 0, 1],\n",
       " [1, 0, 1, 0, 1, 1, 1, 1, 1, 1, 0, 1],\n",
       " [1, 0, 1, 0, 1, 0, 0, 0, 0, 0, 0, 1],\n",
       " [1, 0, 0, 0, 1, 1, 0, 1, 1, 1, 0, 1],\n",
       " [1, 0, 1, 0, 0, 0, 0, 1, 0, 1, 1, 1],\n",
       " [1, 0, 1, 1, 0, 1, 0, 0, 0, 0, 0, 1],\n",
       " [1, 0, 1, 0, 0, 1, 1, 1, 1, 1, 0, 1],\n",
       " [1, 0, 0, 0, 1, 1, 0, 0, 0, 0, 0, 1],\n",
       " [1, 1, 1, 1, 1, 1, 1, 1, 1, 1, 1, 1]]"
      ]
     },
     "execution_count": 27,
     "metadata": {},
     "output_type": "execute_result"
    }
   ],
   "source": [
    "lab"
   ]
  }
 ],
 "metadata": {
  "kernelspec": {
   "display_name": "Python 3",
   "language": "python",
   "name": "python3"
  },
  "language_info": {
   "codemirror_mode": {
    "name": "ipython",
    "version": 3
   },
   "file_extension": ".py",
   "mimetype": "text/x-python",
   "name": "python",
   "nbconvert_exporter": "python",
   "pygments_lexer": "ipython3",
   "version": "3.7.4"
  }
 },
 "nbformat": 4,
 "nbformat_minor": 2
}
