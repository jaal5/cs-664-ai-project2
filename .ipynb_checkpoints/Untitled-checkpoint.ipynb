{
 "cells": [
  {
   "cell_type": "code",
   "execution_count": 1,
   "metadata": {},
   "outputs": [],
   "source": [
    "lab = [[1,1,1,1,1,1,1,1,1,1,1,1],\n",
    "       [1,0,0,0,0,0,0,0,0,0,0,1],\n",
    "       [1,0,1,1,1,1,1,1,0,1,1,1],\n",
    "       [1,0,1,0,0,0,0,0,0,0,0,1],\n",
    "       [1,0,1,0,1,1,1,1,1,1,0,1],\n",
    "       [1,0,1,0,1,0,0,0,0,0,0,1],\n",
    "       [1,0,0,0,1,1,0,1,1,1,0,1],\n",
    "       [1,0,1,0,0,0,0,1,0,1,1,1],\n",
    "       [1,0,1,1,0,1,0,0,0,0,0,1],\n",
    "       [1,0,1,0,0,1,1,1,1,1,0,1],\n",
    "       [1,0,0,0,1,1,0,0,0,0,0,1],\n",
    "       [1,1,1,1,1,1,1,1,1,1,1,1]]\n",
    "\n",
    "dim_y = len(lab)\n",
    "dim_x = len(lab[0])"
   ]
  },
  {
   "cell_type": "code",
   "execution_count": 19,
   "metadata": {},
   "outputs": [],
   "source": [
    "class Node:\n",
    "    def __init__ (self, x, y):\n",
    "        self.x = x\n",
    "        self.y = y\n",
    "        self.neighbours = [ (x + xoff, y + yoff) for xoff, yoff in\n",
    "            ( (1, 0), (0, 1), (0, -1), (-1, 0) )\n",
    "            if not lab [y + yoff] [x + xoff] ]\n",
    "        self.distance = ...\n",
    "        self.path = ...\n",
    "        self.visited = False\n",
    "\n",
    "    def __repr__ (self):\n",
    "        return '{}: ({})'.format ( (self.x, self.y), self.neighbours)\n",
    "nodes = {}\n",
    "for y in range (12):\n",
    "    for x in range (12):\n",
    "        if lab [y] [x]: continue\n",
    "        nodes [x, y] = Node (x, y)\n",
    "\n",
    "current = nodes [1, 1]\n",
    "current.distance = 0\n",
    "current.path = []\n",
    "unvisited = set (nodes.keys () )\n"
   ]
  },
  {
   "cell_type": "code",
   "execution_count": 20,
   "metadata": {},
   "outputs": [
    {
     "data": {
      "text/plain": [
       "{(1, 1),\n",
       " (1, 2),\n",
       " (1, 3),\n",
       " (1, 4),\n",
       " (1, 5),\n",
       " (1, 6),\n",
       " (1, 7),\n",
       " (1, 8),\n",
       " (1, 9),\n",
       " (1, 10),\n",
       " (2, 1),\n",
       " (2, 6),\n",
       " (2, 10),\n",
       " (3, 1),\n",
       " (3, 3),\n",
       " (3, 4),\n",
       " (3, 5),\n",
       " (3, 6),\n",
       " (3, 7),\n",
       " (3, 9),\n",
       " (3, 10),\n",
       " (4, 1),\n",
       " (4, 3),\n",
       " (4, 7),\n",
       " (4, 8),\n",
       " (4, 9),\n",
       " (5, 1),\n",
       " (5, 3),\n",
       " (5, 5),\n",
       " (5, 7),\n",
       " (6, 1),\n",
       " (6, 3),\n",
       " (6, 5),\n",
       " (6, 6),\n",
       " (6, 7),\n",
       " (6, 8),\n",
       " (6, 10),\n",
       " (7, 1),\n",
       " (7, 3),\n",
       " (7, 5),\n",
       " (7, 8),\n",
       " (7, 10),\n",
       " (8, 1),\n",
       " (8, 2),\n",
       " (8, 3),\n",
       " (8, 5),\n",
       " (8, 7),\n",
       " (8, 8),\n",
       " (8, 10),\n",
       " (9, 1),\n",
       " (9, 3),\n",
       " (9, 5),\n",
       " (9, 8),\n",
       " (9, 10),\n",
       " (10, 1),\n",
       " (10, 3),\n",
       " (10, 4),\n",
       " (10, 5),\n",
       " (10, 6),\n",
       " (10, 8),\n",
       " (10, 9),\n",
       " (10, 10)}"
      ]
     },
     "execution_count": 20,
     "metadata": {},
     "output_type": "execute_result"
    }
   ],
   "source": [
    "unvisited"
   ]
  },
  {
   "cell_type": "code",
   "execution_count": 23,
   "metadata": {},
   "outputs": [
    {
     "data": {
      "text/plain": [
       "{(1, 1): (1, 1): ([(2, 1), (1, 2)]),\n",
       " (2, 1): (2, 1): ([(3, 1), (1, 1)]),\n",
       " (3, 1): (3, 1): ([(4, 1), (2, 1)]),\n",
       " (4, 1): (4, 1): ([(5, 1), (3, 1)]),\n",
       " (5, 1): (5, 1): ([(6, 1), (4, 1)]),\n",
       " (6, 1): (6, 1): ([(7, 1), (5, 1)]),\n",
       " (7, 1): (7, 1): ([(8, 1), (6, 1)]),\n",
       " (8, 1): (8, 1): ([(9, 1), (8, 2), (7, 1)]),\n",
       " (9, 1): (9, 1): ([(10, 1), (8, 1)]),\n",
       " (10, 1): (10, 1): ([(9, 1)]),\n",
       " (1, 2): (1, 2): ([(1, 3), (1, 1)]),\n",
       " (8, 2): (8, 2): ([(8, 3), (8, 1)]),\n",
       " (1, 3): (1, 3): ([(1, 4), (1, 2)]),\n",
       " (3, 3): (3, 3): ([(4, 3), (3, 4)]),\n",
       " (4, 3): (4, 3): ([(5, 3), (3, 3)]),\n",
       " (5, 3): (5, 3): ([(6, 3), (4, 3)]),\n",
       " (6, 3): (6, 3): ([(7, 3), (5, 3)]),\n",
       " (7, 3): (7, 3): ([(8, 3), (6, 3)]),\n",
       " (8, 3): (8, 3): ([(9, 3), (8, 2), (7, 3)]),\n",
       " (9, 3): (9, 3): ([(10, 3), (8, 3)]),\n",
       " (10, 3): (10, 3): ([(10, 4), (9, 3)]),\n",
       " (1, 4): (1, 4): ([(1, 5), (1, 3)]),\n",
       " (3, 4): (3, 4): ([(3, 5), (3, 3)]),\n",
       " (10, 4): (10, 4): ([(10, 5), (10, 3)]),\n",
       " (1, 5): (1, 5): ([(1, 6), (1, 4)]),\n",
       " (3, 5): (3, 5): ([(3, 6), (3, 4)]),\n",
       " (5, 5): (5, 5): ([(6, 5)]),\n",
       " (6, 5): (6, 5): ([(7, 5), (6, 6), (5, 5)]),\n",
       " (7, 5): (7, 5): ([(8, 5), (6, 5)]),\n",
       " (8, 5): (8, 5): ([(9, 5), (7, 5)]),\n",
       " (9, 5): (9, 5): ([(10, 5), (8, 5)]),\n",
       " (10, 5): (10, 5): ([(10, 6), (10, 4), (9, 5)]),\n",
       " (1, 6): (1, 6): ([(2, 6), (1, 7), (1, 5)]),\n",
       " (2, 6): (2, 6): ([(3, 6), (1, 6)]),\n",
       " (3, 6): (3, 6): ([(3, 7), (3, 5), (2, 6)]),\n",
       " (6, 6): (6, 6): ([(6, 7), (6, 5)]),\n",
       " (10, 6): (10, 6): ([(10, 5)]),\n",
       " (1, 7): (1, 7): ([(1, 8), (1, 6)]),\n",
       " (3, 7): (3, 7): ([(4, 7), (3, 6)]),\n",
       " (4, 7): (4, 7): ([(5, 7), (4, 8), (3, 7)]),\n",
       " (5, 7): (5, 7): ([(6, 7), (4, 7)]),\n",
       " (6, 7): (6, 7): ([(6, 8), (6, 6), (5, 7)]),\n",
       " (8, 7): (8, 7): ([(8, 8)]),\n",
       " (1, 8): (1, 8): ([(1, 9), (1, 7)]),\n",
       " (4, 8): (4, 8): ([(4, 9), (4, 7)]),\n",
       " (6, 8): (6, 8): ([(7, 8), (6, 7)]),\n",
       " (7, 8): (7, 8): ([(8, 8), (6, 8)]),\n",
       " (8, 8): (8, 8): ([(9, 8), (8, 7), (7, 8)]),\n",
       " (9, 8): (9, 8): ([(10, 8), (8, 8)]),\n",
       " (10, 8): (10, 8): ([(10, 9), (9, 8)]),\n",
       " (1, 9): (1, 9): ([(1, 10), (1, 8)]),\n",
       " (3, 9): (3, 9): ([(4, 9), (3, 10)]),\n",
       " (4, 9): (4, 9): ([(4, 8), (3, 9)]),\n",
       " (10, 9): (10, 9): ([(10, 10), (10, 8)]),\n",
       " (1, 10): (1, 10): ([(2, 10), (1, 9)]),\n",
       " (2, 10): (2, 10): ([(3, 10), (1, 10)]),\n",
       " (3, 10): (3, 10): ([(3, 9), (2, 10)]),\n",
       " (6, 10): (6, 10): ([(7, 10)]),\n",
       " (7, 10): (7, 10): ([(8, 10), (6, 10)]),\n",
       " (8, 10): (8, 10): ([(9, 10), (7, 10)]),\n",
       " (9, 10): (9, 10): ([(10, 10), (8, 10)]),\n",
       " (10, 10): (10, 10): ([(10, 9), (9, 10)])}"
      ]
     },
     "execution_count": 23,
     "metadata": {},
     "output_type": "execute_result"
    }
   ],
   "source": [
    "nodes"
   ]
  },
  {
   "cell_type": "code",
   "execution_count": 16,
   "metadata": {},
   "outputs": [],
   "source": [
    "while True:\n",
    "    dist = current.distance + 1\n",
    "    for nx, ny in current.neighbours:\n",
    "        if (nx, ny) not in unvisited: continue\n",
    "        neighbour = nodes [nx, ny]\n",
    "        if neighbour.distance is ... or neighbour.distance > dist:\n",
    "            neighbour.distance = dist\n",
    "            neighbour.path = current.path + [ (current.x, current.y) ]\n",
    "    current.visited = True\n",
    "    unvisited.remove ( (current.x, current.y) )\n",
    "    if not unvisited: break\n",
    "    current = sorted ( [node for node in nodes.values ()\n",
    "        if not node.visited and node.distance is not ...],\n",
    "        key = lambda node: node.distance) [0]\n",
    "\n"
   ]
  },
  {
   "cell_type": "code",
   "execution_count": 4,
   "metadata": {},
   "outputs": [
    {
     "name": "stdout",
     "output_type": "stream",
     "text": [
      "[(1, 1), (1, 2), (1, 3), (1, 4), (1, 5), (1, 6), (2, 6), (3, 6), (3, 7), (4, 7), (5, 7), (6, 7), (6, 8), (7, 8), (8, 8), (9, 8), (10, 8), (10, 9)]\n",
      "SSSSSEESEEESEEEESS"
     ]
    }
   ],
   "source": [
    "print (nodes [10, 10].path)\n",
    "path = nodes [10, 10].path + [ (10, 10) ]\n",
    "for (ax, ay), (bx, by) in zip (path, path [1:] ):\n",
    "    if ax == bx and ay > by: print ('N', end = '')\n",
    "    if ax == bx and ay < by: print ('S', end = '')\n",
    "    if ay == by and ax > bx: print ('W', end = '')\n",
    "    if ay == by and ax < bx: print ('E', end = '')"
   ]
  },
  {
   "cell_type": "code",
   "execution_count": 25,
   "metadata": {},
   "outputs": [
    {
     "data": {
      "text/plain": [
       "[]"
      ]
     },
     "execution_count": 25,
     "metadata": {},
     "output_type": "execute_result"
    }
   ],
   "source": [
    "current.path"
   ]
  }
 ],
 "metadata": {
  "kernelspec": {
   "display_name": "Python 3",
   "language": "python",
   "name": "python3"
  },
  "language_info": {
   "codemirror_mode": {
    "name": "ipython",
    "version": 3
   },
   "file_extension": ".py",
   "mimetype": "text/x-python",
   "name": "python",
   "nbconvert_exporter": "python",
   "pygments_lexer": "ipython3",
   "version": "3.7.6"
  }
 },
 "nbformat": 4,
 "nbformat_minor": 2
}
