{
 "cells": [
  {
   "cell_type": "code",
   "execution_count": 2,
   "metadata": {},
   "outputs": [],
   "source": [
    "import keyboard\n",
    "import time"
   ]
  },
  {
   "cell_type": "code",
   "execution_count": 3,
   "metadata": {},
   "outputs": [],
   "source": [
    "lab = [[1,1,1,1,1,1,1,1,1,1,1,1,1,1],\n",
    "       [1,1,1,1,1,1,1,1,1,1,1,1,1,1],\n",
    "       [1,1,0,0,0,0,0,0,0,0,0,0,1,1],\n",
    "       [1,1,0,1,1,1,1,1,1,0,1,1,1,1],\n",
    "       [1,1,0,1,0,0,0,0,0,0,0,0,1,1],\n",
    "       [1,1,0,1,0,1,1,1,1,1,1,0,1,1],\n",
    "       [1,1,0,1,0,1,0,0,0,0,0,0,1,1],\n",
    "       [1,1,0,0,0,1,1,0,1,1,1,0,1,1],\n",
    "       [1,1,0,1,0,0,0,0,1,0,1,1,1,1],\n",
    "       [1,1,0,1,1,0,1,0,0,0,0,0,1,1],\n",
    "       [1,1,0,1,0,0,1,1,1,1,1,0,1,1],\n",
    "       [1,1,0,0,0,1,1,0,0,0,0,3,1,1],\n",
    "       [1,1,1,1,1,1,1,1,1,1,1,1,1,1],\n",
    "       [1,1,1,1,1,1,1,1,1,1,1,1,1,1]]"
   ]
  },
  {
   "cell_type": "code",
   "execution_count": 5,
   "metadata": {},
   "outputs": [],
   "source": [
    "allneighb = []\n",
    "for y in range(-2,3):\n",
    "    for x in range(-2,3):\n",
    "        allneighb.append((x,y))\n",
    "\n",
    "class Field:\n",
    "    def __init__ (self, x, y):\n",
    "        self.x = x\n",
    "        self.y = y\n",
    "        self.neighbours = [ (x + xoff, y + yoff) for xoff, yoff in\n",
    "            ( (1, 0), (0, 1), (0, -1), (-1, 0) )\n",
    "            if lab [y + yoff] [x + xoff] != 1 ]\n",
    "        self.all_neighbours = [ (x + xoff, y + yoff) for xoff, yoff in\n",
    "            tuple(allneighb)]\n",
    "        \n",
    "        if len(self.neighbours) == 1:\n",
    "            self.fieldtype = 'dead end'\n",
    "        if len(self.neighbours) >= 3:\n",
    "            self.fieldtype = 'fork'\n",
    "        if len(self.neighbours) == 2:\n",
    "            neighbour1, neighbour2 = self.neighbours\n",
    "            x1, y1 = neighbour1\n",
    "            x2, y2 = neighbour2\n",
    "            if x1 != x2 and y1 != y2:\n",
    "                self.fieldtype = 'corner'\n",
    "            else:\n",
    "                self.fieldtype = 'straight path'\n",
    "        \n",
    "    def get_options(self):\n",
    "        self.options = []\n",
    "        for option in self.neighbours:\n",
    "            xopt = option[0]\n",
    "            yopt = option[1]\n",
    "            if xopt > self.x and yopt == self.y:\n",
    "                option = 'right'\n",
    "            if xopt < self.x and yopt == self.y:\n",
    "                option ='left'\n",
    "            if xopt == self.x and yopt < self.y:\n",
    "                option ='up'\n",
    "            if xopt == self.x and yopt > self.y:\n",
    "                option = 'down'\n",
    "            self.options.append(option)\n",
    "        return self.options\n",
    "\n",
    "    def __repr__ (self):\n",
    "        return '{}: ({})'.format ( (self.x, self.y), self.neighbours)\n",
    "    \n",
    "fields = {}\n",
    "for y in range (14):\n",
    "    for x in range (14):\n",
    "        if lab [y] [x]: continue\n",
    "        fields [x, y] = Field (x, y)"
   ]
  },
  {
   "cell_type": "markdown",
   "metadata": {},
   "source": [
    "### Find all direct neighbors\n",
    "For PDDL implementation without metric"
   ]
  },
  {
   "cell_type": "code",
   "execution_count": 72,
   "metadata": {},
   "outputs": [
    {
     "name": "stdout",
     "output_type": "stream",
     "text": [
      "(neighbour x2y2 x3y2 )\n",
      "(neighbour x2y2 x2y3 )\n",
      "(neighbour x3y2 x4y2 )\n",
      "(neighbour x3y2 x2y2 )\n",
      "(neighbour x4y2 x5y2 )\n",
      "(neighbour x4y2 x3y2 )\n",
      "(neighbour x5y2 x6y2 )\n",
      "(neighbour x5y2 x4y2 )\n",
      "(neighbour x6y2 x7y2 )\n",
      "(neighbour x6y2 x5y2 )\n",
      "(neighbour x7y2 x8y2 )\n",
      "(neighbour x7y2 x6y2 )\n",
      "(neighbour x8y2 x9y2 )\n",
      "(neighbour x8y2 x7y2 )\n",
      "(neighbour x9y2 x10y2 )\n",
      "(neighbour x9y2 x9y3 )\n",
      "(neighbour x9y2 x8y2 )\n",
      "(neighbour x10y2 x11y2 )\n",
      "(neighbour x10y2 x9y2 )\n",
      "(neighbour x11y2 x10y2 )\n",
      "(neighbour x2y3 x2y4 )\n",
      "(neighbour x2y3 x2y2 )\n",
      "(neighbour x9y3 x9y4 )\n",
      "(neighbour x9y3 x9y2 )\n",
      "(neighbour x2y4 x2y5 )\n",
      "(neighbour x2y4 x2y3 )\n",
      "(neighbour x4y4 x5y4 )\n",
      "(neighbour x4y4 x4y5 )\n",
      "(neighbour x5y4 x6y4 )\n",
      "(neighbour x5y4 x4y4 )\n",
      "(neighbour x6y4 x7y4 )\n",
      "(neighbour x6y4 x5y4 )\n",
      "(neighbour x7y4 x8y4 )\n",
      "(neighbour x7y4 x6y4 )\n",
      "(neighbour x8y4 x9y4 )\n",
      "(neighbour x8y4 x7y4 )\n",
      "(neighbour x9y4 x10y4 )\n",
      "(neighbour x9y4 x9y3 )\n",
      "(neighbour x9y4 x8y4 )\n",
      "(neighbour x10y4 x11y4 )\n",
      "(neighbour x10y4 x9y4 )\n",
      "(neighbour x11y4 x11y5 )\n",
      "(neighbour x11y4 x10y4 )\n",
      "(neighbour x2y5 x2y6 )\n",
      "(neighbour x2y5 x2y4 )\n",
      "(neighbour x4y5 x4y6 )\n",
      "(neighbour x4y5 x4y4 )\n",
      "(neighbour x11y5 x11y6 )\n",
      "(neighbour x11y5 x11y4 )\n",
      "(neighbour x2y6 x2y7 )\n",
      "(neighbour x2y6 x2y5 )\n",
      "(neighbour x4y6 x4y7 )\n",
      "(neighbour x4y6 x4y5 )\n",
      "(neighbour x6y6 x7y6 )\n",
      "(neighbour x7y6 x8y6 )\n",
      "(neighbour x7y6 x7y7 )\n",
      "(neighbour x7y6 x6y6 )\n",
      "(neighbour x8y6 x9y6 )\n",
      "(neighbour x8y6 x7y6 )\n",
      "(neighbour x9y6 x10y6 )\n",
      "(neighbour x9y6 x8y6 )\n",
      "(neighbour x10y6 x11y6 )\n",
      "(neighbour x10y6 x9y6 )\n",
      "(neighbour x11y6 x11y7 )\n",
      "(neighbour x11y6 x11y5 )\n",
      "(neighbour x11y6 x10y6 )\n",
      "(neighbour x2y7 x3y7 )\n",
      "(neighbour x2y7 x2y8 )\n",
      "(neighbour x2y7 x2y6 )\n",
      "(neighbour x3y7 x4y7 )\n",
      "(neighbour x3y7 x2y7 )\n",
      "(neighbour x4y7 x4y8 )\n",
      "(neighbour x4y7 x4y6 )\n",
      "(neighbour x4y7 x3y7 )\n",
      "(neighbour x7y7 x7y8 )\n",
      "(neighbour x7y7 x7y6 )\n",
      "(neighbour x11y7 x11y6 )\n",
      "(neighbour x2y8 x2y9 )\n",
      "(neighbour x2y8 x2y7 )\n",
      "(neighbour x4y8 x5y8 )\n",
      "(neighbour x4y8 x4y7 )\n",
      "(neighbour x5y8 x6y8 )\n",
      "(neighbour x5y8 x5y9 )\n",
      "(neighbour x5y8 x4y8 )\n",
      "(neighbour x6y8 x7y8 )\n",
      "(neighbour x6y8 x5y8 )\n",
      "(neighbour x7y8 x7y9 )\n",
      "(neighbour x7y8 x7y7 )\n",
      "(neighbour x7y8 x6y8 )\n",
      "(neighbour x9y8 x9y9 )\n",
      "(neighbour x2y9 x2y10 )\n",
      "(neighbour x2y9 x2y8 )\n",
      "(neighbour x5y9 x5y10 )\n",
      "(neighbour x5y9 x5y8 )\n",
      "(neighbour x7y9 x8y9 )\n",
      "(neighbour x7y9 x7y8 )\n",
      "(neighbour x8y9 x9y9 )\n",
      "(neighbour x8y9 x7y9 )\n",
      "(neighbour x9y9 x10y9 )\n",
      "(neighbour x9y9 x9y8 )\n",
      "(neighbour x9y9 x8y9 )\n",
      "(neighbour x10y9 x11y9 )\n",
      "(neighbour x10y9 x9y9 )\n",
      "(neighbour x11y9 x11y10 )\n",
      "(neighbour x11y9 x10y9 )\n",
      "(neighbour x2y10 x2y11 )\n",
      "(neighbour x2y10 x2y9 )\n",
      "(neighbour x4y10 x5y10 )\n",
      "(neighbour x4y10 x4y11 )\n",
      "(neighbour x5y10 x5y9 )\n",
      "(neighbour x5y10 x4y10 )\n",
      "(neighbour x11y10 x11y11 )\n",
      "(neighbour x11y10 x11y9 )\n",
      "(neighbour x2y11 x3y11 )\n",
      "(neighbour x2y11 x2y10 )\n",
      "(neighbour x3y11 x4y11 )\n",
      "(neighbour x3y11 x2y11 )\n",
      "(neighbour x4y11 x4y10 )\n",
      "(neighbour x4y11 x3y11 )\n",
      "(neighbour x7y11 x8y11 )\n",
      "(neighbour x8y11 x9y11 )\n",
      "(neighbour x8y11 x7y11 )\n",
      "(neighbour x9y11 x10y11 )\n",
      "(neighbour x9y11 x8y11 )\n",
      "(neighbour x10y11 x11y11 )\n",
      "(neighbour x10y11 x9y11 )\n"
     ]
    }
   ],
   "source": [
    "# neighbours\n",
    "for y in range (14):\n",
    "    for x in range (14):\n",
    "        if lab [y] [x]: continue\n",
    "        field = Field(x, y)\n",
    "        neighbours = field.neighbours\n",
    "        for neighbour in neighbours:\n",
    "            start = 'x'+str(field.x)+'y'+str(field.y)\n",
    "            endx = neighbour[0]\n",
    "            endy = neighbour[1]\n",
    "            end = 'x'+str(endx)+'y'+str(endy)\n",
    "            print('(neighbour', start, end,')')"
   ]
  },
  {
   "cell_type": "code",
   "execution_count": 73,
   "metadata": {
    "scrolled": true
   },
   "outputs": [
    {
     "name": "stdout",
     "output_type": "stream",
     "text": [
      "x2y2\n",
      "x3y2\n",
      "x4y2\n",
      "x5y2\n",
      "x6y2\n",
      "x7y2\n",
      "x8y2\n",
      "x9y2\n",
      "x10y2\n",
      "x11y2\n",
      "x2y3\n",
      "x9y3\n",
      "x2y4\n",
      "x4y4\n",
      "x5y4\n",
      "x6y4\n",
      "x7y4\n",
      "x8y4\n",
      "x9y4\n",
      "x10y4\n",
      "x11y4\n",
      "x2y5\n",
      "x4y5\n",
      "x11y5\n",
      "x2y6\n",
      "x4y6\n",
      "x6y6\n",
      "x7y6\n",
      "x8y6\n",
      "x9y6\n",
      "x10y6\n",
      "x11y6\n",
      "x2y7\n",
      "x3y7\n",
      "x4y7\n",
      "x7y7\n",
      "x11y7\n",
      "x2y8\n",
      "x4y8\n",
      "x5y8\n",
      "x6y8\n",
      "x7y8\n",
      "x9y8\n",
      "x2y9\n",
      "x5y9\n",
      "x7y9\n",
      "x8y9\n",
      "x9y9\n",
      "x10y9\n",
      "x11y9\n",
      "x2y10\n",
      "x4y10\n",
      "x5y10\n",
      "x11y10\n",
      "x2y11\n",
      "x3y11\n",
      "x4y11\n",
      "x7y11\n",
      "x8y11\n",
      "x9y11\n",
      "x10y11\n"
     ]
    }
   ],
   "source": [
    "# objects\n",
    "for y in range (14):\n",
    "    for x in range (14):\n",
    "        if lab [y] [x]: continue\n",
    "        field = Field(x, y)   \n",
    "        start = 'x'+str(field.x)+'y'+str(field.y)\n",
    "        print(start)"
   ]
  },
  {
   "cell_type": "code",
   "execution_count": null,
   "metadata": {},
   "outputs": [],
   "source": []
  },
  {
   "cell_type": "markdown",
   "metadata": {},
   "source": [
    "### Find paths to neighbors\n",
    "For PDDL implementation with metric"
   ]
  },
  {
   "cell_type": "code",
   "execution_count": 47,
   "metadata": {},
   "outputs": [],
   "source": [
    "def move(position,direction):\n",
    "    if direction == 'up':\n",
    "        xdir = 0\n",
    "        ydir = -1\n",
    "    if direction == 'down':\n",
    "        xdir = 0\n",
    "        ydir = 1\n",
    "    if direction == 'right':\n",
    "        xdir = 1\n",
    "        ydir = 0\n",
    "    if direction == 'left':\n",
    "        xdir = -1\n",
    "        ydir = 0\n",
    "    \n",
    "    # move if possible\n",
    "    possibilities = Field(position.x,position.y).neighbours\n",
    "    if (position.x + xdir, position.y + ydir) in possibilities:\n",
    "        position_new = Field(position.x + xdir, position.y + ydir)\n",
    "        #print(position)\n",
    "        return position_new, position_new\n",
    "    else:\n",
    "        position_new = position\n",
    "        return 'invalid', position_new"
   ]
  },
  {
   "cell_type": "code",
   "execution_count": 40,
   "metadata": {},
   "outputs": [],
   "source": [
    "def walk_to_fork(position,direction):\n",
    "    while True:\n",
    "        position, position_fork = move(position,direction)\n",
    "        if position == 'invalid':\n",
    "            #print('invalid move')\n",
    "            break\n",
    "        if len(position.neighbours) > 2:\n",
    "            #print('this is a fork')\n",
    "            break\n",
    "    return position_fork"
   ]
  },
  {
   "cell_type": "code",
   "execution_count": 43,
   "metadata": {},
   "outputs": [],
   "source": [
    "def get_paths(origin):\n",
    "    next_fork = []\n",
    "    for option in origin.get_options():\n",
    "        position = walk_to_fork(origin, option)\n",
    "        next_fork.append((position.x,position.y))\n",
    "    #print('from this position you can go to:', next_fork)\n",
    "    return next_fork"
   ]
  },
  {
   "cell_type": "code",
   "execution_count": 46,
   "metadata": {},
   "outputs": [
    {
     "data": {
      "text/plain": [
       "[(11, 2), (9, 4), (2, 2)]"
      ]
     },
     "execution_count": 46,
     "metadata": {},
     "output_type": "execute_result"
    }
   ],
   "source": [
    "get_paths(fields[9,2])"
   ]
  },
  {
   "cell_type": "markdown",
   "metadata": {},
   "source": [
    "### User Input to walk the maze"
   ]
  },
  {
   "cell_type": "code",
   "execution_count": 32,
   "metadata": {},
   "outputs": [
    {
     "data": {
      "image/png": "[encoded data removed]",
      "text/plain": [
       "<Figure size 720x360 with 1 Axes>"
      ]
     },
     "metadata": {
      "needs_background": "light"
     },
     "output_type": "display_data"
    },
    {
     "name": "stdout",
     "output_type": "stream",
     "text": [
      "Exit game\n"
     ]
    },
    {
     "ename": "UnboundLocalError",
     "evalue": "local variable 'xdir' referenced before assignment",
     "output_type": "error",
     "traceback": [
      "\u001b[1;31m---------------------------------------------------------------------------\u001b[0m",
      "\u001b[1;31mUnboundLocalError\u001b[0m                         Traceback (most recent call last)",
      "\u001b[1;32m<ipython-input-32-48359db5ad06>\u001b[0m in \u001b[0;36m<module>\u001b[1;34m\u001b[0m\n\u001b[0;32m      3\u001b[0m \u001b[1;32mwhile\u001b[0m \u001b[1;32mTrue\u001b[0m\u001b[1;33m:\u001b[0m\u001b[1;33m\u001b[0m\u001b[1;33m\u001b[0m\u001b[0m\n\u001b[0;32m      4\u001b[0m     \u001b[0mdirection\u001b[0m \u001b[1;33m=\u001b[0m \u001b[0mkey_detect\u001b[0m\u001b[1;33m(\u001b[0m\u001b[1;33m)\u001b[0m\u001b[1;33m\u001b[0m\u001b[1;33m\u001b[0m\u001b[0m\n\u001b[1;32m----> 5\u001b[1;33m     \u001b[0mposition\u001b[0m \u001b[1;33m=\u001b[0m \u001b[0mwalk_to_fork\u001b[0m\u001b[1;33m(\u001b[0m\u001b[0mposition\u001b[0m\u001b[1;33m,\u001b[0m\u001b[0mdirection\u001b[0m\u001b[1;33m)\u001b[0m\u001b[1;33m\u001b[0m\u001b[1;33m\u001b[0m\u001b[0m\n\u001b[0m\u001b[0;32m      6\u001b[0m     \u001b[0mclear_output\u001b[0m\u001b[1;33m(\u001b[0m\u001b[0mwait\u001b[0m\u001b[1;33m=\u001b[0m\u001b[1;32mTrue\u001b[0m\u001b[1;33m)\u001b[0m\u001b[1;33m\u001b[0m\u001b[1;33m\u001b[0m\u001b[0m\n\u001b[0;32m      7\u001b[0m     \u001b[0mplot_board\u001b[0m\u001b[1;33m(\u001b[0m\u001b[0mposition\u001b[0m\u001b[1;33m,\u001b[0m\u001b[0mlab\u001b[0m\u001b[1;33m)\u001b[0m\u001b[1;33m\u001b[0m\u001b[1;33m\u001b[0m\u001b[0m\n",
      "\u001b[1;32m<ipython-input-8-78cacec3c66f>\u001b[0m in \u001b[0;36mwalk_to_fork\u001b[1;34m(position, direction)\u001b[0m\n\u001b[0;32m      1\u001b[0m \u001b[1;32mdef\u001b[0m \u001b[0mwalk_to_fork\u001b[0m\u001b[1;33m(\u001b[0m\u001b[0mposition\u001b[0m\u001b[1;33m,\u001b[0m\u001b[0mdirection\u001b[0m\u001b[1;33m)\u001b[0m\u001b[1;33m:\u001b[0m\u001b[1;33m\u001b[0m\u001b[1;33m\u001b[0m\u001b[0m\n\u001b[0;32m      2\u001b[0m     \u001b[1;32mwhile\u001b[0m \u001b[1;32mTrue\u001b[0m\u001b[1;33m:\u001b[0m\u001b[1;33m\u001b[0m\u001b[1;33m\u001b[0m\u001b[0m\n\u001b[1;32m----> 3\u001b[1;33m         \u001b[0mposition\u001b[0m\u001b[1;33m,\u001b[0m \u001b[0mposition_fork\u001b[0m \u001b[1;33m=\u001b[0m \u001b[0mmove\u001b[0m\u001b[1;33m(\u001b[0m\u001b[0mposition\u001b[0m\u001b[1;33m,\u001b[0m\u001b[0mdirection\u001b[0m\u001b[1;33m)\u001b[0m\u001b[1;33m\u001b[0m\u001b[1;33m\u001b[0m\u001b[0m\n\u001b[0m\u001b[0;32m      4\u001b[0m         \u001b[1;32mif\u001b[0m \u001b[0mposition\u001b[0m \u001b[1;33m==\u001b[0m \u001b[1;34m'invalid'\u001b[0m\u001b[1;33m:\u001b[0m\u001b[1;33m\u001b[0m\u001b[1;33m\u001b[0m\u001b[0m\n\u001b[0;32m      5\u001b[0m             \u001b[0mprint\u001b[0m\u001b[1;33m(\u001b[0m\u001b[1;34m'invalid move'\u001b[0m\u001b[1;33m)\u001b[0m\u001b[1;33m\u001b[0m\u001b[1;33m\u001b[0m\u001b[0m\n",
      "\u001b[1;32m<ipython-input-21-a00f62797987>\u001b[0m in \u001b[0;36mmove\u001b[1;34m(position, direction)\u001b[0m\n\u001b[0;32m     15\u001b[0m     \u001b[1;31m# move if possible\u001b[0m\u001b[1;33m\u001b[0m\u001b[1;33m\u001b[0m\u001b[1;33m\u001b[0m\u001b[0m\n\u001b[0;32m     16\u001b[0m     \u001b[0mpossibilities\u001b[0m \u001b[1;33m=\u001b[0m \u001b[0mField\u001b[0m\u001b[1;33m(\u001b[0m\u001b[0mposition\u001b[0m\u001b[1;33m.\u001b[0m\u001b[0mx\u001b[0m\u001b[1;33m,\u001b[0m\u001b[0mposition\u001b[0m\u001b[1;33m.\u001b[0m\u001b[0my\u001b[0m\u001b[1;33m)\u001b[0m\u001b[1;33m.\u001b[0m\u001b[0mneighbours\u001b[0m\u001b[1;33m\u001b[0m\u001b[1;33m\u001b[0m\u001b[0m\n\u001b[1;32m---> 17\u001b[1;33m     \u001b[1;32mif\u001b[0m \u001b[1;33m(\u001b[0m\u001b[0mposition\u001b[0m\u001b[1;33m.\u001b[0m\u001b[0mx\u001b[0m \u001b[1;33m+\u001b[0m \u001b[0mxdir\u001b[0m\u001b[1;33m,\u001b[0m \u001b[0mposition\u001b[0m\u001b[1;33m.\u001b[0m\u001b[0my\u001b[0m \u001b[1;33m+\u001b[0m \u001b[0mydir\u001b[0m\u001b[1;33m)\u001b[0m \u001b[1;32min\u001b[0m \u001b[0mpossibilities\u001b[0m\u001b[1;33m:\u001b[0m\u001b[1;33m\u001b[0m\u001b[1;33m\u001b[0m\u001b[0m\n\u001b[0m\u001b[0;32m     18\u001b[0m         \u001b[0mposition_new\u001b[0m \u001b[1;33m=\u001b[0m \u001b[0mField\u001b[0m\u001b[1;33m(\u001b[0m\u001b[0mposition\u001b[0m\u001b[1;33m.\u001b[0m\u001b[0mx\u001b[0m \u001b[1;33m+\u001b[0m \u001b[0mxdir\u001b[0m\u001b[1;33m,\u001b[0m \u001b[0mposition\u001b[0m\u001b[1;33m.\u001b[0m\u001b[0my\u001b[0m \u001b[1;33m+\u001b[0m \u001b[0mydir\u001b[0m\u001b[1;33m)\u001b[0m\u001b[1;33m\u001b[0m\u001b[1;33m\u001b[0m\u001b[0m\n\u001b[0;32m     19\u001b[0m         \u001b[0mprint\u001b[0m\u001b[1;33m(\u001b[0m\u001b[0mposition\u001b[0m\u001b[1;33m)\u001b[0m\u001b[1;33m\u001b[0m\u001b[1;33m\u001b[0m\u001b[0m\n",
      "\u001b[1;31mUnboundLocalError\u001b[0m: local variable 'xdir' referenced before assignment"
     ]
    }
   ],
   "source": [
    "from IPython.display import clear_output\n",
    "plot_board(position,lab)\n",
    "while True:\n",
    "    direction = key_detect()\n",
    "    position = walk_to_fork(position,direction)\n",
    "    clear_output(wait=True)\n",
    "    plot_board(position,lab)\n",
    "    time.sleep(1)"
   ]
  },
  {
   "cell_type": "code",
   "execution_count": 4,
   "metadata": {},
   "outputs": [],
   "source": [
    "def key_detect():\n",
    "    while True:  # making a loop\n",
    "        if keyboard.is_pressed('up arrow'):\n",
    "            print('Up!')\n",
    "            direction = 'up'\n",
    "            break  # finishing the loop\n",
    "        if keyboard.is_pressed('down arrow'):\n",
    "            print('Down!')\n",
    "            direction = 'down'\n",
    "            break  # finishing the loop\n",
    "        if keyboard.is_pressed('left arrow'):\n",
    "            print('Left!')\n",
    "            direction = 'left'\n",
    "            break  # finishing the loop\n",
    "        if keyboard.is_pressed('right arrow'):\n",
    "            print('Right!')\n",
    "            direction = 'right'\n",
    "            break  # finishing the loop\n",
    "        if keyboard.is_pressed('esc'):\n",
    "            print('Exit game')\n",
    "            direction = -1\n",
    "            break\n",
    "    return direction"
   ]
  },
  {
   "cell_type": "markdown",
   "metadata": {},
   "source": [
    "### Plot functions"
   ]
  },
  {
   "cell_type": "code",
   "execution_count": 18,
   "metadata": {},
   "outputs": [],
   "source": [
    "def print_board(position,lab):\n",
    "    for y in range (12):\n",
    "        print(\"\\n\", end=\"\")\n",
    "        for x in range (12):\n",
    "            if y == position.y and x == position.x:\n",
    "                print('D', end=\"\")\n",
    "            elif lab[y][x] == 1:\n",
    "                print('#', end=\"\")\n",
    "            elif lab[y][x] == 0:\n",
    "                print(' ', end=\"\")"
   ]
  },
  {
   "cell_type": "code",
   "execution_count": 19,
   "metadata": {},
   "outputs": [],
   "source": [
    "%matplotlib inline\n",
    "import matplotlib.pyplot as plt\n",
    "import copy\n",
    "def plot_board(position,lab):\n",
    "    try:\n",
    "        fig.clear()\n",
    "    except:\n",
    "        fig = plt.figure(figsize=(10,5))\n",
    "\n",
    "        ax1 = fig.add_subplot(1,1,1)\n",
    "\n",
    "        # Make a 9x9 grid...\n",
    "        image = copy.deepcopy(lab)\n",
    "        image[position.y][position.x] = 2\n",
    "        image[11][11] = 3\n",
    "        ax1.matshow(image)\n",
    "        plt.show()"
   ]
  },
  {
   "cell_type": "code",
   "execution_count": 291,
   "metadata": {},
   "outputs": [],
   "source": [
    "%matplotlib inline\n",
    "import matplotlib.pyplot as plt\n",
    "def plot_board_hidden(position,lab):\n",
    "    try:\n",
    "        fig.clear()\n",
    "    except:\n",
    "        fig = plt.figure(figsize=(10,5))\n",
    "\n",
    "        ax1 = fig.add_subplot(1,1,1)\n",
    "\n",
    "        image = np.ones((14,14),dtype=int)\n",
    "        for (x,y) in position.all_neighbours:\n",
    "            image[y][x] = lab[y][x]\n",
    "        image[position.y][position.x] = 2\n",
    "        \n",
    "        ax1.matshow(image)\n",
    "        plt.show()"
   ]
  },
  {
   "cell_type": "code",
   "execution_count": 147,
   "metadata": {},
   "outputs": [],
   "source": [
    "%matplotlib inline\n",
    "import matplotlib.pyplot as plt\n",
    "def plot_pddl_path(lab_pddl):\n",
    "    fig = plt.figure(figsize=(10,5))\n",
    "    ax1 = fig.add_subplot(1,1,1)\n",
    "    ax1.matshow(lab_pddl)\n",
    "    plt.show()"
   ]
  },
  {
   "cell_type": "markdown",
   "metadata": {},
   "source": [
    "### Visualize PDDL output"
   ]
  },
  {
   "cell_type": "code",
   "execution_count": 161,
   "metadata": {},
   "outputs": [
    {
     "data": {
      "image/png": "[encoded data removed]",
      "text/plain": [
       "<Figure size 720x360 with 1 Axes>"
      ]
     },
     "metadata": {
      "needs_background": "light"
     },
     "output_type": "display_data"
    }
   ],
   "source": [
    "path = open('PDDL_output.txt','r').read()\n",
    "import re\n",
    "import numpy as np\n",
    "\n",
    "start = (11,2) #(x,y)\n",
    "end = (11,11) #(x,y)\n",
    "visualize_pddl(path, start, end)"
   ]
  },
  {
   "cell_type": "code",
   "execution_count": 159,
   "metadata": {},
   "outputs": [],
   "source": [
    "def visualize_pddl(path, start, target):\n",
    "    split = re.split('; |, |\\)|\\ |\\n',path)\n",
    "\n",
    "    res = [i for i in split if 'x' in i]\n",
    "\n",
    "\n",
    "    arr = np.array(res)\n",
    "    arr = np.unique(arr)\n",
    "    lab_pddl = copy.deepcopy(lab)\n",
    "    for element in arr:\n",
    "        y = int(element.split('y')[1])\n",
    "        x = element.split('y')[0]\n",
    "        x = int(x.split('x')[1])\n",
    "        lab_pddl[y][x] = 2\n",
    "    # define start position\n",
    "    lab_pddl[start[1]][start[0]] = 4\n",
    "    # define target position\n",
    "    lab_pddl[target[1]][target[0]] = 3\n",
    "    plot_pddl_path(lab_pddl)"
   ]
  },
  {
   "cell_type": "markdown",
   "metadata": {},
   "source": [
    "# Playground"
   ]
  },
  {
   "cell_type": "code",
   "execution_count": 9,
   "metadata": {},
   "outputs": [
    {
     "ename": "SyntaxError",
     "evalue": "invalid syntax (<ipython-input-9-5b9e1b8e4ee3>, line 21)",
     "output_type": "error",
     "traceback": [
      "\u001b[1;36m  File \u001b[1;32m\"<ipython-input-9-5b9e1b8e4ee3>\"\u001b[1;36m, line \u001b[1;32m21\u001b[0m\n\u001b[1;33m    for option.\u001b[0m\n\u001b[1;37m               ^\u001b[0m\n\u001b[1;31mSyntaxError\u001b[0m\u001b[1;31m:\u001b[0m invalid syntax\n"
     ]
    }
   ],
   "source": [
    "def step_forward(position,direction):\n",
    "    if direction == 'up':\n",
    "        xdir = 0\n",
    "        ydir = -1\n",
    "    if direction == 'down':\n",
    "        xdir = 0\n",
    "        ydir = 1\n",
    "    if direction == 'right':\n",
    "        xdir = 1\n",
    "        ydir = 0\n",
    "    if direction == 'left':\n",
    "        xdir = -1\n",
    "        ydir = 0\n",
    "    \n",
    "    position_old = copy.deepcopy(position)\n",
    "    \n",
    "    if len(position.get_options()) == 1:\n",
    "        print('dead end')\n",
    "        return position\n",
    "    if len(position.get_options()) == 2:\n",
    "        for option."
   ]
  }
 ],
 "metadata": {
  "kernelspec": {
   "display_name": "Python 3",
   "language": "python",
   "name": "python3"
  },
  "language_info": {
   "codemirror_mode": {
    "name": "ipython",
    "version": 3
   },
   "file_extension": ".py",
   "mimetype": "text/x-python",
   "name": "python",
   "nbconvert_exporter": "python",
   "pygments_lexer": "ipython3",
   "version": "3.7.6"
  }
 },
 "nbformat": 4,
 "nbformat_minor": 2
}
