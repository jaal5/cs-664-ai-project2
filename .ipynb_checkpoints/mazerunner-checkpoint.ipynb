{
 "cells": [
  {
   "cell_type": "code",
   "execution_count": 1,
   "metadata": {},
   "outputs": [],
   "source": [
    "import keyboard\n",
    "import time"
   ]
  },
  {
   "cell_type": "markdown",
   "metadata": {},
   "source": [
    "### Input\n",
    "This is the maze expressed in a list of list. 1: blocked field 0: empty field"
   ]
  },
  {
   "cell_type": "code",
   "execution_count": 82,
   "metadata": {},
   "outputs": [],
   "source": [
    "lab = [[1,1,1,1,1,1,1,1,1,1,1,1,1,1],\n",
    "       [1,1,1,1,1,1,1,1,1,1,1,1,1,1],\n",
    "       [1,1,0,0,0,0,0,0,0,0,0,0,1,1],\n",
    "       [1,1,0,1,1,1,1,1,1,0,1,1,1,1],\n",
    "       [1,1,0,1,0,0,0,0,0,0,0,0,1,1],\n",
    "       [1,1,0,1,0,1,1,1,1,1,1,0,1,1],\n",
    "       [1,1,0,1,0,1,0,0,0,0,0,0,1,1],\n",
    "       [1,1,0,0,0,1,1,0,1,1,1,0,1,1],\n",
    "       [1,1,0,1,0,0,0,0,1,0,1,1,1,1],\n",
    "       [1,1,0,1,1,0,1,0,0,0,0,0,1,1],\n",
    "       [1,1,0,1,0,0,1,1,1,1,1,0,1,1],\n",
    "       [1,1,0,0,0,1,1,0,0,0,0,0,1,1],\n",
    "       [1,1,1,1,1,1,1,1,1,1,1,1,1,1],\n",
    "       [1,1,1,1,1,1,1,1,1,1,1,1,1,1]]\n",
    "\n",
    "dim_y = len(lab)\n",
    "dim_x = len(lab[0])"
   ]
  },
  {
   "cell_type": "code",
   "execution_count": 2,
   "metadata": {},
   "outputs": [],
   "source": [
    "lab =   [[1,1,1,1,1,1,1,1,1,1,1,1,1,1,1,1,1,1,1,1,1],\n",
    "        [1,0,0,0,0,0,0,0,0,0,0,0,0,0,0,0,0,0,0,0,1],\n",
    "        [1,0,1,0,1,1,1,1,1,1,1,0,1,1,1,1,1,1,1,0,1],\n",
    "        [1,0,1,0,1,0,0,0,0,0,1,0,1,0,0,0,0,0,1,0,1],\n",
    "        [1,0,1,0,1,1,1,0,1,1,1,0,1,0,1,1,1,0,0,0,1],\n",
    "        [1,0,1,0,0,0,0,0,0,0,0,0,0,0,0,0,0,0,1,0,1],\n",
    "        [1,0,1,1,0,1,0,1,1,1,1,1,1,1,1,1,1,1,1,0,1],\n",
    "        [1,0,0,1,0,1,1,1,0,0,0,0,0,0,0,0,0,0,0,0,1],\n",
    "        [1,1,0,0,0,0,0,0,0,1,1,1,0,1,1,1,0,1,1,1,1],\n",
    "        [1,1,1,1,1,1,1,1,0,1,0,1,0,0,1,0,0,0,0,0,1],\n",
    "        [1,0,0,0,0,0,0,0,0,1,0,1,1,0,1,0,1,0,1,1,1],\n",
    "        [1,1,1,1,1,0,1,0,0,1,0,0,0,0,1,0,1,0,1,0,1],\n",
    "        [1,0,0,0,1,0,1,0,1,1,1,1,1,0,0,0,1,1,1,0,1],\n",
    "        [1,0,1,0,0,0,1,0,0,0,0,0,0,0,1,0,0,0,0,0,1],\n",
    "        [1,1,1,1,0,1,1,1,1,0,1,1,1,1,1,1,1,1,1,0,1],\n",
    "        [1,0,0,1,0,0,0,0,0,0,0,0,0,0,0,0,0,0,0,0,1],\n",
    "        [1,0,1,1,0,1,0,1,0,1,1,1,1,1,0,1,1,1,1,0,1],\n",
    "        [1,0,0,0,0,1,0,1,1,1,0,1,0,1,0,0,1,0,1,0,1],\n",
    "        [1,1,1,1,1,1,0,0,0,0,0,0,0,0,0,0,0,0,1,0,1],\n",
    "        [1,0,0,0,1,0,0,0,1,1,1,1,1,0,1,1,1,1,1,0,1],\n",
    "        [1,0,1,0,1,1,1,1,1,0,0,0,1,0,0,1,0,0,1,0,1],\n",
    "        [1,0,1,0,1,0,0,0,1,0,1,0,1,1,1,1,0,1,1,0,1],\n",
    "        [1,0,0,0,0,0,1,0,0,0,1,0,0,0,0,0,0,0,0,0,1],\n",
    "        [1,1,1,1,1,1,1,1,1,1,1,1,1,1,1,1,1,1,1,1,1]]\n",
    "\n",
    "dim_y = len(lab)\n",
    "dim_x = len(lab[0])"
   ]
  },
  {
   "cell_type": "markdown",
   "metadata": {},
   "source": [
    "### Plot functions"
   ]
  },
  {
   "cell_type": "code",
   "execution_count": 3,
   "metadata": {},
   "outputs": [],
   "source": [
    "%matplotlib inline\n",
    "import matplotlib.pyplot as plt\n",
    "import copy\n",
    "def plot_board(position,lab):\n",
    "    try:\n",
    "        fig.clear()\n",
    "    except:\n",
    "        fig = plt.figure(figsize=(6,6))\n",
    "\n",
    "        ax1 = fig.add_subplot(1,1,1)\n",
    "\n",
    "        # Make a 9x9 grid...\n",
    "        image = copy.deepcopy(lab)\n",
    "        image[position.y][position.x] = 2\n",
    "        image[target_point.y][target_point.x] = 3\n",
    "        ax1.matshow(image)\n",
    "        plt.show()\n",
    "\n",
    "%matplotlib inline\n",
    "import matplotlib.pyplot as plt\n",
    "def plot_board_hidden(position,lab):\n",
    "    try:\n",
    "        fig.clear()\n",
    "    except:\n",
    "        fig = plt.figure(figsize=(6,6))\n",
    "\n",
    "        ax1 = fig.add_subplot(1,1,1)\n",
    "\n",
    "        image = np.ones((dim_y,dim_x),dtype=int)\n",
    "        for (x,y) in position.all_neighbours:\n",
    "            image[y][x] = lab[y][x]\n",
    "        image[position.y][position.x] = 2\n",
    "        \n",
    "        ax1.matshow(image)\n",
    "        plt.show()\n",
    "        \n",
    "%matplotlib inline\n",
    "import matplotlib.pyplot as plt\n",
    "def plot_solution_path(lab_pddl):\n",
    "    fig = plt.figure(figsize=(6,6))\n",
    "    ax1 = fig.add_subplot(1,1,1)\n",
    "    ax1.matshow(lab_pddl)\n",
    "    plt.show()"
   ]
  },
  {
   "cell_type": "markdown",
   "metadata": {},
   "source": [
    "# Build the world and environment"
   ]
  },
  {
   "cell_type": "code",
   "execution_count": 4,
   "metadata": {},
   "outputs": [],
   "source": [
    "allneighb = []\n",
    "for y in range(-2,3):\n",
    "    for x in range(-2,3):\n",
    "        allneighb.append((x,y))\n",
    "\n",
    "class Field:\n",
    "    def __init__ (self, x, y):\n",
    "        self.x = x\n",
    "        self.y = y\n",
    "        self.neighbours = [ (x + xoff, y + yoff) for xoff, yoff in\n",
    "            ( (1, 0), (0, 1), (0, -1), (-1, 0) )\n",
    "            if lab [y + yoff] [x + xoff] != 1 ]\n",
    "        self.all_neighbours = [ (x + xoff, y + yoff) for xoff, yoff in\n",
    "            tuple(allneighb)]\n",
    "        self.distance = ...\n",
    "        self.path = ...\n",
    "        self.visited = False\n",
    "        \n",
    "        if len(self.neighbours) == 1:\n",
    "            self.fieldtype = 'dead end'\n",
    "        if len(self.neighbours) >= 3:\n",
    "            self.fieldtype = 'fork'\n",
    "        if len(self.neighbours) == 2:\n",
    "            neighbour1, neighbour2 = self.neighbours\n",
    "            x1, y1 = neighbour1\n",
    "            x2, y2 = neighbour2\n",
    "            if x1 != x2 and y1 != y2:\n",
    "                self.fieldtype = 'corner'\n",
    "            else:\n",
    "                self.fieldtype = 'straight path'\n",
    "        \n",
    "    def get_options(self):\n",
    "        self.options = []\n",
    "        for option in self.neighbours:\n",
    "            xopt = option[0]\n",
    "            yopt = option[1]\n",
    "            if xopt > self.x and yopt == self.y:\n",
    "                option = 'right'\n",
    "            if xopt < self.x and yopt == self.y:\n",
    "                option ='left'\n",
    "            if xopt == self.x and yopt < self.y:\n",
    "                option ='up'\n",
    "            if xopt == self.x and yopt > self.y:\n",
    "                option = 'down'\n",
    "            self.options.append(option)\n",
    "        return self.options\n",
    "\n",
    "    def __repr__ (self):\n",
    "        return '{}: ({})'.format ( (self.x, self.y), self.neighbours)\n",
    "\n",
    "def get_fields():\n",
    "    fields = {}\n",
    "    for y in range (dim_y):\n",
    "        for x in range (dim_x):\n",
    "            if lab [y] [x]: continue\n",
    "            fields [x, y] = Field (x, y)\n",
    "    return fields\n",
    "\n",
    "fields = get_fields()"
   ]
  },
  {
   "cell_type": "markdown",
   "metadata": {},
   "source": [
    "# ----------------------------- RUN FOR DEMO -----------------------------"
   ]
  },
  {
   "cell_type": "code",
   "execution_count": 22,
   "metadata": {
    "collapsed": true
   },
   "outputs": [
    {
     "data": {
      "text/plain": [
       "{(1, 1): (1, 1): ([(2, 1), (1, 2)]),\n",
       " (2, 1): (2, 1): ([(3, 1), (1, 1)]),\n",
       " (3, 1): (3, 1): ([(4, 1), (3, 2), (2, 1)]),\n",
       " (4, 1): (4, 1): ([(5, 1), (3, 1)]),\n",
       " (5, 1): (5, 1): ([(6, 1), (4, 1)]),\n",
       " (6, 1): (6, 1): ([(7, 1), (5, 1)]),\n",
       " (7, 1): (7, 1): ([(8, 1), (6, 1)]),\n",
       " (8, 1): (8, 1): ([(9, 1), (7, 1)]),\n",
       " (9, 1): (9, 1): ([(10, 1), (8, 1)]),\n",
       " (10, 1): (10, 1): ([(11, 1), (9, 1)]),\n",
       " (11, 1): (11, 1): ([(12, 1), (11, 2), (10, 1)]),\n",
       " (12, 1): (12, 1): ([(13, 1), (11, 1)]),\n",
       " (13, 1): (13, 1): ([(14, 1), (12, 1)]),\n",
       " (14, 1): (14, 1): ([(15, 1), (13, 1)]),\n",
       " (15, 1): (15, 1): ([(16, 1), (14, 1)]),\n",
       " (16, 1): (16, 1): ([(17, 1), (15, 1)]),\n",
       " (17, 1): (17, 1): ([(18, 1), (16, 1)]),\n",
       " (18, 1): (18, 1): ([(19, 1), (17, 1)]),\n",
       " (19, 1): (19, 1): ([(19, 2), (18, 1)]),\n",
       " (1, 2): (1, 2): ([(1, 3), (1, 1)]),\n",
       " (3, 2): (3, 2): ([(3, 3), (3, 1)]),\n",
       " (11, 2): (11, 2): ([(11, 3), (11, 1)]),\n",
       " (19, 2): (19, 2): ([(19, 3), (19, 1)]),\n",
       " (1, 3): (1, 3): ([(1, 4), (1, 2)]),\n",
       " (3, 3): (3, 3): ([(3, 4), (3, 2)]),\n",
       " (5, 3): (5, 3): ([(6, 3)]),\n",
       " (6, 3): (6, 3): ([(7, 3), (5, 3)]),\n",
       " (7, 3): (7, 3): ([(8, 3), (7, 4), (6, 3)]),\n",
       " (8, 3): (8, 3): ([(9, 3), (7, 3)]),\n",
       " (9, 3): (9, 3): ([(8, 3)]),\n",
       " (11, 3): (11, 3): ([(11, 4), (11, 2)]),\n",
       " (13, 3): (13, 3): ([(14, 3), (13, 4)]),\n",
       " (14, 3): (14, 3): ([(15, 3), (13, 3)]),\n",
       " (15, 3): (15, 3): ([(16, 3), (14, 3)]),\n",
       " (16, 3): (16, 3): ([(17, 3), (15, 3)]),\n",
       " (17, 3): (17, 3): ([(17, 4), (16, 3)]),\n",
       " (19, 3): (19, 3): ([(19, 4), (19, 2)]),\n",
       " (1, 4): (1, 4): ([(1, 5), (1, 3)]),\n",
       " (3, 4): (3, 4): ([(3, 5), (3, 3)]),\n",
       " (7, 4): (7, 4): ([(7, 5), (7, 3)]),\n",
       " (11, 4): (11, 4): ([(11, 5), (11, 3)]),\n",
       " (13, 4): (13, 4): ([(13, 5), (13, 3)]),\n",
       " (17, 4): (17, 4): ([(18, 4), (17, 5), (17, 3)]),\n",
       " (18, 4): (18, 4): ([(19, 4), (17, 4)]),\n",
       " (19, 4): (19, 4): ([(19, 5), (19, 3), (18, 4)]),\n",
       " (1, 5): (1, 5): ([(1, 6), (1, 4)]),\n",
       " (3, 5): (3, 5): ([(4, 5), (3, 4)]),\n",
       " (4, 5): (4, 5): ([(5, 5), (4, 6), (3, 5)]),\n",
       " (5, 5): (5, 5): ([(6, 5), (4, 5)]),\n",
       " (6, 5): (6, 5): ([(7, 5), (6, 6), (5, 5)]),\n",
       " (7, 5): (7, 5): ([(8, 5), (7, 4), (6, 5)]),\n",
       " (8, 5): (8, 5): ([(9, 5), (7, 5)]),\n",
       " (9, 5): (9, 5): ([(10, 5), (8, 5)]),\n",
       " (10, 5): (10, 5): ([(11, 5), (9, 5)]),\n",
       " (11, 5): (11, 5): ([(12, 5), (11, 4), (10, 5)]),\n",
       " (12, 5): (12, 5): ([(13, 5), (11, 5)]),\n",
       " (13, 5): (13, 5): ([(14, 5), (13, 4), (12, 5)]),\n",
       " (14, 5): (14, 5): ([(15, 5), (13, 5)]),\n",
       " (15, 5): (15, 5): ([(16, 5), (14, 5)]),\n",
       " (16, 5): (16, 5): ([(17, 5), (15, 5)]),\n",
       " (17, 5): (17, 5): ([(17, 4), (16, 5)]),\n",
       " (19, 5): (19, 5): ([(19, 6), (19, 4)]),\n",
       " (1, 6): (1, 6): ([(1, 7), (1, 5)]),\n",
       " (4, 6): (4, 6): ([(4, 7), (4, 5)]),\n",
       " (6, 6): (6, 6): ([(6, 5)]),\n",
       " (19, 6): (19, 6): ([(19, 7), (19, 5)]),\n",
       " (1, 7): (1, 7): ([(2, 7), (1, 6)]),\n",
       " (2, 7): (2, 7): ([(2, 8), (1, 7)]),\n",
       " (4, 7): (4, 7): ([(4, 8), (4, 6)]),\n",
       " (8, 7): (8, 7): ([(9, 7), (8, 8)]),\n",
       " (9, 7): (9, 7): ([(10, 7), (8, 7)]),\n",
       " (10, 7): (10, 7): ([(11, 7), (9, 7)]),\n",
       " (11, 7): (11, 7): ([(12, 7), (10, 7)]),\n",
       " (12, 7): (12, 7): ([(13, 7), (12, 8), (11, 7)]),\n",
       " (13, 7): (13, 7): ([(14, 7), (12, 7)]),\n",
       " (14, 7): (14, 7): ([(15, 7), (13, 7)]),\n",
       " (15, 7): (15, 7): ([(16, 7), (14, 7)]),\n",
       " (16, 7): (16, 7): ([(17, 7), (16, 8), (15, 7)]),\n",
       " (17, 7): (17, 7): ([(18, 7), (16, 7)]),\n",
       " (18, 7): (18, 7): ([(19, 7), (17, 7)]),\n",
       " (19, 7): (19, 7): ([(19, 6), (18, 7)]),\n",
       " (2, 8): (2, 8): ([(3, 8), (2, 7)]),\n",
       " (3, 8): (3, 8): ([(4, 8), (2, 8)]),\n",
       " (4, 8): (4, 8): ([(5, 8), (4, 7), (3, 8)]),\n",
       " (5, 8): (5, 8): ([(6, 8), (4, 8)]),\n",
       " (6, 8): (6, 8): ([(7, 8), (5, 8)]),\n",
       " (7, 8): (7, 8): ([(8, 8), (6, 8)]),\n",
       " (8, 8): (8, 8): ([(8, 9), (8, 7), (7, 8)]),\n",
       " (12, 8): (12, 8): ([(12, 9), (12, 7)]),\n",
       " (16, 8): (16, 8): ([(16, 9), (16, 7)]),\n",
       " (8, 9): (8, 9): ([(8, 10), (8, 8)]),\n",
       " (10, 9): (10, 9): ([(10, 10)]),\n",
       " (12, 9): (12, 9): ([(13, 9), (12, 8)]),\n",
       " (13, 9): (13, 9): ([(13, 10), (12, 9)]),\n",
       " (15, 9): (15, 9): ([(16, 9), (15, 10)]),\n",
       " (16, 9): (16, 9): ([(17, 9), (16, 8), (15, 9)]),\n",
       " (17, 9): (17, 9): ([(18, 9), (17, 10), (16, 9)]),\n",
       " (18, 9): (18, 9): ([(19, 9), (17, 9)]),\n",
       " (19, 9): (19, 9): ([(18, 9)]),\n",
       " (1, 10): (1, 10): ([(2, 10)]),\n",
       " (2, 10): (2, 10): ([(3, 10), (1, 10)]),\n",
       " (3, 10): (3, 10): ([(4, 10), (2, 10)]),\n",
       " (4, 10): (4, 10): ([(5, 10), (3, 10)]),\n",
       " (5, 10): (5, 10): ([(6, 10), (5, 11), (4, 10)]),\n",
       " (6, 10): (6, 10): ([(7, 10), (5, 10)]),\n",
       " (7, 10): (7, 10): ([(8, 10), (7, 11), (6, 10)]),\n",
       " (8, 10): (8, 10): ([(8, 11), (8, 9), (7, 10)]),\n",
       " (10, 10): (10, 10): ([(10, 11), (10, 9)]),\n",
       " (13, 10): (13, 10): ([(13, 11), (13, 9)]),\n",
       " (15, 10): (15, 10): ([(15, 11), (15, 9)]),\n",
       " (17, 10): (17, 10): ([(17, 11), (17, 9)]),\n",
       " (5, 11): (5, 11): ([(5, 12), (5, 10)]),\n",
       " (7, 11): (7, 11): ([(8, 11), (7, 12), (7, 10)]),\n",
       " (8, 11): (8, 11): ([(8, 10), (7, 11)]),\n",
       " (10, 11): (10, 11): ([(11, 11), (10, 10)]),\n",
       " (11, 11): (11, 11): ([(12, 11), (10, 11)]),\n",
       " (12, 11): (12, 11): ([(13, 11), (11, 11)]),\n",
       " (13, 11): (13, 11): ([(13, 12), (13, 10), (12, 11)]),\n",
       " (15, 11): (15, 11): ([(15, 12), (15, 10)]),\n",
       " (17, 11): (17, 11): ([(17, 10)]),\n",
       " (19, 11): (19, 11): ([(19, 12)]),\n",
       " (1, 12): (1, 12): ([(2, 12), (1, 13)]),\n",
       " (2, 12): (2, 12): ([(3, 12), (1, 12)]),\n",
       " (3, 12): (3, 12): ([(3, 13), (2, 12)]),\n",
       " (5, 12): (5, 12): ([(5, 13), (5, 11)]),\n",
       " (7, 12): (7, 12): ([(7, 13), (7, 11)]),\n",
       " (13, 12): (13, 12): ([(14, 12), (13, 13), (13, 11)]),\n",
       " (14, 12): (14, 12): ([(15, 12), (13, 12)]),\n",
       " (15, 12): (15, 12): ([(15, 13), (15, 11), (14, 12)]),\n",
       " (19, 12): (19, 12): ([(19, 13), (19, 11)]),\n",
       " (1, 13): (1, 13): ([(1, 12)]),\n",
       " (3, 13): (3, 13): ([(4, 13), (3, 12)]),\n",
       " (4, 13): (4, 13): ([(5, 13), (4, 14), (3, 13)]),\n",
       " (5, 13): (5, 13): ([(5, 12), (4, 13)]),\n",
       " (7, 13): (7, 13): ([(8, 13), (7, 12)]),\n",
       " (8, 13): (8, 13): ([(9, 13), (7, 13)]),\n",
       " (9, 13): (9, 13): ([(10, 13), (9, 14), (8, 13)]),\n",
       " (10, 13): (10, 13): ([(11, 13), (9, 13)]),\n",
       " (11, 13): (11, 13): ([(12, 13), (10, 13)]),\n",
       " (12, 13): (12, 13): ([(13, 13), (11, 13)]),\n",
       " (13, 13): (13, 13): ([(13, 12), (12, 13)]),\n",
       " (15, 13): (15, 13): ([(16, 13), (15, 12)]),\n",
       " (16, 13): (16, 13): ([(17, 13), (15, 13)]),\n",
       " (17, 13): (17, 13): ([(18, 13), (16, 13)]),\n",
       " (18, 13): (18, 13): ([(19, 13), (17, 13)]),\n",
       " (19, 13): (19, 13): ([(19, 14), (19, 12), (18, 13)]),\n",
       " (4, 14): (4, 14): ([(4, 15), (4, 13)]),\n",
       " (9, 14): (9, 14): ([(9, 15), (9, 13)]),\n",
       " (19, 14): (19, 14): ([(19, 15), (19, 13)]),\n",
       " (1, 15): (1, 15): ([(2, 15), (1, 16)]),\n",
       " (2, 15): (2, 15): ([(1, 15)]),\n",
       " (4, 15): (4, 15): ([(5, 15), (4, 16), (4, 14)]),\n",
       " (5, 15): (5, 15): ([(6, 15), (4, 15)]),\n",
       " (6, 15): (6, 15): ([(7, 15), (6, 16), (5, 15)]),\n",
       " (7, 15): (7, 15): ([(8, 15), (6, 15)]),\n",
       " (8, 15): (8, 15): ([(9, 15), (8, 16), (7, 15)]),\n",
       " (9, 15): (9, 15): ([(10, 15), (9, 14), (8, 15)]),\n",
       " (10, 15): (10, 15): ([(11, 15), (9, 15)]),\n",
       " (11, 15): (11, 15): ([(12, 15), (10, 15)]),\n",
       " (12, 15): (12, 15): ([(13, 15), (11, 15)]),\n",
       " (13, 15): (13, 15): ([(14, 15), (12, 15)]),\n",
       " (14, 15): (14, 15): ([(15, 15), (14, 16), (13, 15)]),\n",
       " (15, 15): (15, 15): ([(16, 15), (14, 15)]),\n",
       " (16, 15): (16, 15): ([(17, 15), (15, 15)]),\n",
       " (17, 15): (17, 15): ([(18, 15), (16, 15)]),\n",
       " (18, 15): (18, 15): ([(19, 15), (17, 15)]),\n",
       " (19, 15): (19, 15): ([(19, 16), (19, 14), (18, 15)]),\n",
       " (1, 16): (1, 16): ([(1, 17), (1, 15)]),\n",
       " (4, 16): (4, 16): ([(4, 17), (4, 15)]),\n",
       " (6, 16): (6, 16): ([(6, 17), (6, 15)]),\n",
       " (8, 16): (8, 16): ([(8, 15)]),\n",
       " (14, 16): (14, 16): ([(14, 17), (14, 15)]),\n",
       " (19, 16): (19, 16): ([(19, 17), (19, 15)]),\n",
       " (1, 17): (1, 17): ([(2, 17), (1, 16)]),\n",
       " (2, 17): (2, 17): ([(3, 17), (1, 17)]),\n",
       " (3, 17): (3, 17): ([(4, 17), (2, 17)]),\n",
       " (4, 17): (4, 17): ([(4, 16), (3, 17)]),\n",
       " (6, 17): (6, 17): ([(6, 18), (6, 16)]),\n",
       " (10, 17): (10, 17): ([(10, 18)]),\n",
       " (12, 17): (12, 17): ([(12, 18)]),\n",
       " (14, 17): (14, 17): ([(15, 17), (14, 18), (14, 16)]),\n",
       " (15, 17): (15, 17): ([(15, 18), (14, 17)]),\n",
       " (17, 17): (17, 17): ([(17, 18)]),\n",
       " (19, 17): (19, 17): ([(19, 18), (19, 16)]),\n",
       " (6, 18): (6, 18): ([(7, 18), (6, 19), (6, 17)]),\n",
       " (7, 18): (7, 18): ([(8, 18), (7, 19), (6, 18)]),\n",
       " (8, 18): (8, 18): ([(9, 18), (7, 18)]),\n",
       " (9, 18): (9, 18): ([(10, 18), (8, 18)]),\n",
       " (10, 18): (10, 18): ([(11, 18), (10, 17), (9, 18)]),\n",
       " (11, 18): (11, 18): ([(12, 18), (10, 18)]),\n",
       " (12, 18): (12, 18): ([(13, 18), (12, 17), (11, 18)]),\n",
       " (13, 18): (13, 18): ([(14, 18), (13, 19), (12, 18)]),\n",
       " (14, 18): (14, 18): ([(15, 18), (14, 17), (13, 18)]),\n",
       " (15, 18): (15, 18): ([(16, 18), (15, 17), (14, 18)]),\n",
       " (16, 18): (16, 18): ([(17, 18), (15, 18)]),\n",
       " (17, 18): (17, 18): ([(17, 17), (16, 18)]),\n",
       " (19, 18): (19, 18): ([(19, 19), (19, 17)]),\n",
       " (1, 19): (1, 19): ([(2, 19), (1, 20)]),\n",
       " (2, 19): (2, 19): ([(3, 19), (1, 19)]),\n",
       " (3, 19): (3, 19): ([(3, 20), (2, 19)]),\n",
       " (5, 19): (5, 19): ([(6, 19)]),\n",
       " (6, 19): (6, 19): ([(7, 19), (6, 18), (5, 19)]),\n",
       " (7, 19): (7, 19): ([(7, 18), (6, 19)]),\n",
       " (13, 19): (13, 19): ([(13, 20), (13, 18)]),\n",
       " (19, 19): (19, 19): ([(19, 20), (19, 18)]),\n",
       " (1, 20): (1, 20): ([(1, 21), (1, 19)]),\n",
       " (3, 20): (3, 20): ([(3, 21), (3, 19)]),\n",
       " (9, 20): (9, 20): ([(10, 20), (9, 21)]),\n",
       " (10, 20): (10, 20): ([(11, 20), (9, 20)]),\n",
       " (11, 20): (11, 20): ([(11, 21), (10, 20)]),\n",
       " (13, 20): (13, 20): ([(14, 20), (13, 19)]),\n",
       " (14, 20): (14, 20): ([(13, 20)]),\n",
       " (16, 20): (16, 20): ([(17, 20), (16, 21)]),\n",
       " (17, 20): (17, 20): ([(16, 20)]),\n",
       " (19, 20): (19, 20): ([(19, 21), (19, 19)]),\n",
       " (1, 21): (1, 21): ([(1, 22), (1, 20)]),\n",
       " (3, 21): (3, 21): ([(3, 22), (3, 20)]),\n",
       " (5, 21): (5, 21): ([(6, 21), (5, 22)]),\n",
       " (6, 21): (6, 21): ([(7, 21), (5, 21)]),\n",
       " (7, 21): (7, 21): ([(7, 22), (6, 21)]),\n",
       " (9, 21): (9, 21): ([(9, 22), (9, 20)]),\n",
       " (11, 21): (11, 21): ([(11, 22), (11, 20)]),\n",
       " (16, 21): (16, 21): ([(16, 22), (16, 20)]),\n",
       " (19, 21): (19, 21): ([(19, 22), (19, 20)]),\n",
       " (1, 22): (1, 22): ([(2, 22), (1, 21)]),\n",
       " (2, 22): (2, 22): ([(3, 22), (1, 22)]),\n",
       " (3, 22): (3, 22): ([(4, 22), (3, 21), (2, 22)]),\n",
       " (4, 22): (4, 22): ([(5, 22), (3, 22)]),\n",
       " (5, 22): (5, 22): ([(5, 21), (4, 22)]),\n",
       " (7, 22): (7, 22): ([(8, 22), (7, 21)]),\n",
       " (8, 22): (8, 22): ([(9, 22), (7, 22)]),\n",
       " (9, 22): (9, 22): ([(9, 21), (8, 22)]),\n",
       " (11, 22): (11, 22): ([(12, 22), (11, 21)]),\n",
       " (12, 22): (12, 22): ([(13, 22), (11, 22)]),\n",
       " (13, 22): (13, 22): ([(14, 22), (12, 22)]),\n",
       " (14, 22): (14, 22): ([(15, 22), (13, 22)]),\n",
       " (15, 22): (15, 22): ([(16, 22), (14, 22)]),\n",
       " (16, 22): (16, 22): ([(17, 22), (16, 21), (15, 22)]),\n",
       " (17, 22): (17, 22): ([(18, 22), (16, 22)]),\n",
       " (18, 22): (18, 22): ([(19, 22), (17, 22)]),\n",
       " (19, 22): (19, 22): ([(19, 21), (18, 22)])}"
      ]
     },
     "execution_count": 22,
     "metadata": {},
     "output_type": "execute_result"
    }
   ],
   "source": [
    "fields"
   ]
  },
  {
   "cell_type": "markdown",
   "metadata": {},
   "source": [
    "### Find all direct neighbors\n",
    "For PDDL implementation without metric"
   ]
  },
  {
   "cell_type": "code",
   "execution_count": 6,
   "metadata": {},
   "outputs": [],
   "source": [
    "# neighbours\n",
    "neighbourslist = []\n",
    "for y in range (dim_y):\n",
    "    for x in range (dim_x):\n",
    "        if lab [y] [x]: continue\n",
    "        field = Field(x, y)\n",
    "        neighbours = field.neighbours\n",
    "        for neighbour in neighbours:\n",
    "            start = 'x'+str(field.x)+'y'+str(field.y)\n",
    "            endx = neighbour[0]\n",
    "            endy = neighbour[1]\n",
    "            end = 'x'+str(endx)+'y'+str(endy)\n",
    "            entry = '(neighbour ' + str(start) + ' ' + str(end) + ')'\n",
    "            neighbourslist.append(entry)"
   ]
  },
  {
   "cell_type": "code",
   "execution_count": 7,
   "metadata": {
    "scrolled": true
   },
   "outputs": [],
   "source": [
    "# objects\n",
    "objectslist = []\n",
    "for y in range (dim_y):\n",
    "    for x in range (dim_x):\n",
    "        if lab [y] [x]: continue\n",
    "        field = Field(x, y)   \n",
    "        start = 'x'+str(field.x)+'y'+str(field.y)\n",
    "        objectslist.append(start)"
   ]
  },
  {
   "cell_type": "code",
   "execution_count": 8,
   "metadata": {},
   "outputs": [],
   "source": [
    "# save to txt file\n",
    "f=open('PDDL-objects.txt','w')\n",
    "for row in objectslist:\n",
    "    entry = row + '\\n'\n",
    "    f.write(entry)\n",
    "f.close()"
   ]
  },
  {
   "cell_type": "code",
   "execution_count": 9,
   "metadata": {},
   "outputs": [],
   "source": [
    "# save to txt file\n",
    "f=open('PDDL-init.txt','w')\n",
    "for row in neighbourslist:\n",
    "    entry = row + '\\n'\n",
    "    f.write(entry)\n",
    "f.close()"
   ]
  },
  {
   "cell_type": "markdown",
   "metadata": {},
   "source": [
    "# ----------------------------- RUN FOR DEMO -----------------------------"
   ]
  },
  {
   "cell_type": "code",
   "execution_count": null,
   "metadata": {},
   "outputs": [],
   "source": [
    "objectslist"
   ]
  },
  {
   "cell_type": "markdown",
   "metadata": {},
   "source": [
    "# ----------------------------- RUN FOR DEMO -----------------------------"
   ]
  },
  {
   "cell_type": "code",
   "execution_count": null,
   "metadata": {},
   "outputs": [],
   "source": [
    "neighbourslist"
   ]
  },
  {
   "cell_type": "markdown",
   "metadata": {},
   "source": [
    "### Find paths to neighbors\n",
    "For PDDL implementation with metric. Unfortunately, These functions cannot be used yet since the PDDL is not capable of dealing with metrics. The next update of the PDDL solver should be capable of doing so."
   ]
  },
  {
   "cell_type": "code",
   "execution_count": 26,
   "metadata": {},
   "outputs": [],
   "source": [
    "def move(position,direction):\n",
    "    if direction == 'up':\n",
    "        xdir = 0\n",
    "        ydir = -1\n",
    "    if direction == 'down':\n",
    "        xdir = 0\n",
    "        ydir = 1\n",
    "    if direction == 'right':\n",
    "        xdir = 1\n",
    "        ydir = 0\n",
    "    if direction == 'left':\n",
    "        xdir = -1\n",
    "        ydir = 0\n",
    "    \n",
    "    # move if possible\n",
    "    possibilities = Field(position.x,position.y).neighbours\n",
    "    if (position.x + xdir, position.y + ydir) in possibilities:\n",
    "        position_new = Field(position.x + xdir, position.y + ydir)\n",
    "        #print(position)\n",
    "        return position_new, position_new\n",
    "    else:\n",
    "        position_new = position\n",
    "        return 'invalid', position_new"
   ]
  },
  {
   "cell_type": "code",
   "execution_count": 27,
   "metadata": {},
   "outputs": [],
   "source": [
    "def walk_to_fork(position,direction):\n",
    "    while True:\n",
    "        position, position_fork = move(position,direction)\n",
    "        if position == 'invalid':\n",
    "            #print('invalid move')\n",
    "            break\n",
    "        if len(position.neighbours) > 2:\n",
    "            #print('this is a fork')\n",
    "            break\n",
    "    return position_fork"
   ]
  },
  {
   "cell_type": "code",
   "execution_count": 28,
   "metadata": {},
   "outputs": [],
   "source": [
    "def get_paths(origin):\n",
    "    next_fork = []\n",
    "    for option in origin.get_options():\n",
    "        position = walk_to_fork(origin, option)\n",
    "        next_fork.append((position.x,position.y))\n",
    "    #print('from this position you can go to:', next_fork)\n",
    "    return next_fork"
   ]
  },
  {
   "cell_type": "markdown",
   "metadata": {},
   "source": [
    "# Solve the maze"
   ]
  },
  {
   "cell_type": "code",
   "execution_count": 13,
   "metadata": {},
   "outputs": [
    {
     "data": {
      "image/png": "[encoded data removed]",
      "text/plain": [
       "<Figure size 432x432 with 1 Axes>"
      ]
     },
     "metadata": {
      "needs_background": "light"
     },
     "output_type": "display_data"
    }
   ],
   "source": [
    "# As a reminder how the empty board looks like\n",
    "lab_input = copy.deepcopy(lab)\n",
    "lab_input[0][0] = 3\n",
    "lab_input[0][1] = 4\n",
    "plot_solution_path(lab_input)"
   ]
  },
  {
   "cell_type": "markdown",
   "metadata": {},
   "source": [
    "# ----------------------------- RUN FOR DEMO -----------------------------"
   ]
  },
  {
   "cell_type": "code",
   "execution_count": 16,
   "metadata": {
    "collapsed": true
   },
   "outputs": [
    {
     "data": {
      "image/png": "[encoded data removed]",
      "text/plain": [
       "<Figure size 432x432 with 1 Axes>"
      ]
     },
     "metadata": {
      "needs_background": "light"
     },
     "output_type": "display_data"
    }
   ],
   "source": [
    "starting_point = Field(9,3) # (x,y)\n",
    "target_point = Field(1,20) # (x,y)\n",
    "\n",
    "lab_input[starting_point.y][starting_point.x] = 3\n",
    "lab_input[target_point.y][target_point.x] = 4\n",
    "lab_input[0][0] = 1\n",
    "lab_input[0][1] = 1\n",
    "\n",
    "plot_solution_path(lab_input)"
   ]
  },
  {
   "cell_type": "markdown",
   "metadata": {},
   "source": [
    "### A* as benchmark\n",
    "To compare, if A* and PDDL finds the same solution"
   ]
  },
  {
   "cell_type": "code",
   "execution_count": 17,
   "metadata": {},
   "outputs": [],
   "source": [
    "fields = get_fields()\n",
    "\n",
    "# initialize the starting point\n",
    "current = starting_point\n",
    "current.distance = 0\n",
    "current.path = []\n",
    "\n",
    "# all fields are unvisited\n",
    "unvisited = set(fields.keys ())\n",
    "\n",
    "while True:\n",
    "    dist = current.distance + 1\n",
    "    for nx, ny in current.neighbours:\n",
    "        if (nx, ny) not in unvisited: continue\n",
    "        neighbour = fields [nx, ny]\n",
    "        if neighbour.distance is ... or neighbour.distance > dist:\n",
    "            neighbour.distance = dist\n",
    "            neighbour.path = current.path + [ (current.x, current.y) ]\n",
    "    current.visited = True\n",
    "    unvisited.remove ( (current.x, current.y) )\n",
    "    if not unvisited: break\n",
    "    current = sorted ( [node for node in fields.values ()\n",
    "        if not node.visited and node.distance is not ...],\n",
    "        key = lambda node: node.distance) [0]\n",
    "target_point = fields [target_point.x, target_point.y]\n",
    "\n",
    "path = target_point.path + [ (target_point.x, target_point.y) ]"
   ]
  },
  {
   "cell_type": "markdown",
   "metadata": {},
   "source": [
    "# Visualization"
   ]
  },
  {
   "cell_type": "markdown",
   "metadata": {},
   "source": [
    "### Compare PDDL to A*"
   ]
  },
  {
   "cell_type": "code",
   "execution_count": 18,
   "metadata": {},
   "outputs": [],
   "source": [
    "file = open('PDDL_output_complex.txt','r').read()\n",
    "import re\n",
    "import numpy as np\n",
    "\n",
    "start = (starting_point.x,starting_point.y) #(x,y)\n",
    "end = (target_point.x,target_point.y) #(x,y)\n",
    "\n",
    "split = re.split('; |, |\\)|\\ |\\n',file)\n",
    "\n",
    "res = [i for i in split if 'x' in i]\n",
    "\n",
    "arr = np.array(res)\n",
    "arr = np.unique(arr)\n",
    "lab_pddl = copy.deepcopy(lab)\n",
    "for element in arr:\n",
    "    y = int(element.split('y')[1])\n",
    "    x = element.split('y')[0]\n",
    "    x = int(x.split('x')[1])\n",
    "    lab_pddl[y][x] = 2\n",
    "# define start position\n",
    "lab_pddl[starting_point.y][starting_point.x] = 4\n",
    "# define target position\n",
    "lab_pddl[target_point.y][target_point.x] = 3"
   ]
  },
  {
   "cell_type": "code",
   "execution_count": 19,
   "metadata": {},
   "outputs": [],
   "source": [
    "lab_astar = copy.deepcopy(lab)\n",
    "for element in path:\n",
    "    y = element[1]\n",
    "    x = element[0]\n",
    "    lab_astar[y][x] = 2\n",
    "lab_astar[starting_point.y][starting_point.x] = 4\n",
    "# define target position\n",
    "lab_astar[target_point.y][target_point.x] = 3"
   ]
  },
  {
   "cell_type": "markdown",
   "metadata": {},
   "source": [
    "# ----------------------------- RUN FOR DEMO -----------------------------"
   ]
  },
  {
   "cell_type": "code",
   "execution_count": 20,
   "metadata": {
    "collapsed": true
   },
   "outputs": [
    {
     "name": "stdout",
     "output_type": "stream",
     "text": [
      "Path found by PDDL:\n",
      "number of steps: 68\n"
     ]
    },
    {
     "data": {
      "image/png": "[encoded data removed]",
      "text/plain": [
       "<Figure size 432x432 with 1 Axes>"
      ]
     },
     "metadata": {
      "needs_background": "light"
     },
     "output_type": "display_data"
    },
    {
     "name": "stdout",
     "output_type": "stream",
     "text": [
      "Path found by A*:\n",
      "number of steps: 68\n"
     ]
    },
    {
     "data": {
      "image/png": "[encoded data removed]",
      "text/plain": [
       "<Figure size 432x432 with 1 Axes>"
      ]
     },
     "metadata": {
      "needs_background": "light"
     },
     "output_type": "display_data"
    }
   ],
   "source": [
    "print('Path found by PDDL:\\nnumber of steps:', len(arr))\n",
    "plot_solution_path(lab_pddl)\n",
    "print('Path found by A*:\\nnumber of steps:', len(path))\n",
    "plot_solution_path(lab_astar)"
   ]
  },
  {
   "cell_type": "markdown",
   "metadata": {},
   "source": [
    "# Playground"
   ]
  },
  {
   "cell_type": "markdown",
   "metadata": {},
   "source": [
    "### User Input to walk the maze\n",
    "This is not need at all. But it shows very nicely, how the above functions work"
   ]
  },
  {
   "cell_type": "code",
   "execution_count": 24,
   "metadata": {},
   "outputs": [],
   "source": [
    "def key_detect():\n",
    "    while True:  # making a loop\n",
    "        if keyboard.is_pressed('up arrow'):\n",
    "            print('Up!')\n",
    "            direction = 'up'\n",
    "            break  # finishing the loop\n",
    "        if keyboard.is_pressed('down arrow'):\n",
    "            print('Down!')\n",
    "            direction = 'down'\n",
    "            break  # finishing the loop\n",
    "        if keyboard.is_pressed('left arrow'):\n",
    "            print('Left!')\n",
    "            direction = 'left'\n",
    "            break  # finishing the loop\n",
    "        if keyboard.is_pressed('right arrow'):\n",
    "            print('Right!')\n",
    "            direction = 'right'\n",
    "            break  # finishing the loop\n",
    "        if keyboard.is_pressed('esc'):\n",
    "            print('Exit game')\n",
    "            direction = -1\n",
    "            break\n",
    "    return direction"
   ]
  },
  {
   "cell_type": "code",
   "execution_count": 29,
   "metadata": {},
   "outputs": [
    {
     "data": {
      "image/png": "[encoded data removed]",
      "text/plain": [
       "<Figure size 432x432 with 1 Axes>"
      ]
     },
     "metadata": {
      "needs_background": "light"
     },
     "output_type": "display_data"
    },
    {
     "name": "stdout",
     "output_type": "stream",
     "text": [
      "Exit game\n"
     ]
    },
    {
     "ename": "UnboundLocalError",
     "evalue": "local variable 'xdir' referenced before assignment",
     "output_type": "error",
     "traceback": [
      "\u001b[1;31m---------------------------------------------------------------------------\u001b[0m",
      "\u001b[1;31mUnboundLocalError\u001b[0m                         Traceback (most recent call last)",
      "\u001b[1;32m<ipython-input-29-ee950466b7c1>\u001b[0m in \u001b[0;36m<module>\u001b[1;34m\u001b[0m\n\u001b[0;32m      7\u001b[0m \u001b[1;32mwhile\u001b[0m \u001b[1;32mTrue\u001b[0m\u001b[1;33m:\u001b[0m\u001b[1;33m\u001b[0m\u001b[1;33m\u001b[0m\u001b[0m\n\u001b[0;32m      8\u001b[0m     \u001b[0mdirection\u001b[0m \u001b[1;33m=\u001b[0m \u001b[0mkey_detect\u001b[0m\u001b[1;33m(\u001b[0m\u001b[1;33m)\u001b[0m\u001b[1;33m\u001b[0m\u001b[1;33m\u001b[0m\u001b[0m\n\u001b[1;32m----> 9\u001b[1;33m     \u001b[0mposition\u001b[0m \u001b[1;33m=\u001b[0m \u001b[0mwalk_to_fork\u001b[0m\u001b[1;33m(\u001b[0m\u001b[0mposition\u001b[0m\u001b[1;33m,\u001b[0m\u001b[0mdirection\u001b[0m\u001b[1;33m)\u001b[0m\u001b[1;33m\u001b[0m\u001b[1;33m\u001b[0m\u001b[0m\n\u001b[0m\u001b[0;32m     10\u001b[0m     \u001b[0mclear_output\u001b[0m\u001b[1;33m(\u001b[0m\u001b[0mwait\u001b[0m\u001b[1;33m=\u001b[0m\u001b[1;32mTrue\u001b[0m\u001b[1;33m)\u001b[0m\u001b[1;33m\u001b[0m\u001b[1;33m\u001b[0m\u001b[0m\n\u001b[0;32m     11\u001b[0m     \u001b[0mplot_board\u001b[0m\u001b[1;33m(\u001b[0m\u001b[0mposition\u001b[0m\u001b[1;33m,\u001b[0m\u001b[0mlab\u001b[0m\u001b[1;33m)\u001b[0m\u001b[1;33m\u001b[0m\u001b[1;33m\u001b[0m\u001b[0m\n",
      "\u001b[1;32m<ipython-input-27-656d84b3d9b1>\u001b[0m in \u001b[0;36mwalk_to_fork\u001b[1;34m(position, direction)\u001b[0m\n\u001b[0;32m      1\u001b[0m \u001b[1;32mdef\u001b[0m \u001b[0mwalk_to_fork\u001b[0m\u001b[1;33m(\u001b[0m\u001b[0mposition\u001b[0m\u001b[1;33m,\u001b[0m\u001b[0mdirection\u001b[0m\u001b[1;33m)\u001b[0m\u001b[1;33m:\u001b[0m\u001b[1;33m\u001b[0m\u001b[1;33m\u001b[0m\u001b[0m\n\u001b[0;32m      2\u001b[0m     \u001b[1;32mwhile\u001b[0m \u001b[1;32mTrue\u001b[0m\u001b[1;33m:\u001b[0m\u001b[1;33m\u001b[0m\u001b[1;33m\u001b[0m\u001b[0m\n\u001b[1;32m----> 3\u001b[1;33m         \u001b[0mposition\u001b[0m\u001b[1;33m,\u001b[0m \u001b[0mposition_fork\u001b[0m \u001b[1;33m=\u001b[0m \u001b[0mmove\u001b[0m\u001b[1;33m(\u001b[0m\u001b[0mposition\u001b[0m\u001b[1;33m,\u001b[0m\u001b[0mdirection\u001b[0m\u001b[1;33m)\u001b[0m\u001b[1;33m\u001b[0m\u001b[1;33m\u001b[0m\u001b[0m\n\u001b[0m\u001b[0;32m      4\u001b[0m         \u001b[1;32mif\u001b[0m \u001b[0mposition\u001b[0m \u001b[1;33m==\u001b[0m \u001b[1;34m'invalid'\u001b[0m\u001b[1;33m:\u001b[0m\u001b[1;33m\u001b[0m\u001b[1;33m\u001b[0m\u001b[0m\n\u001b[0;32m      5\u001b[0m             \u001b[1;31m#print('invalid move')\u001b[0m\u001b[1;33m\u001b[0m\u001b[1;33m\u001b[0m\u001b[1;33m\u001b[0m\u001b[0m\n",
      "\u001b[1;32m<ipython-input-26-72f47b1e7d2a>\u001b[0m in \u001b[0;36mmove\u001b[1;34m(position, direction)\u001b[0m\n\u001b[0;32m     15\u001b[0m     \u001b[1;31m# move if possible\u001b[0m\u001b[1;33m\u001b[0m\u001b[1;33m\u001b[0m\u001b[1;33m\u001b[0m\u001b[0m\n\u001b[0;32m     16\u001b[0m     \u001b[0mpossibilities\u001b[0m \u001b[1;33m=\u001b[0m \u001b[0mField\u001b[0m\u001b[1;33m(\u001b[0m\u001b[0mposition\u001b[0m\u001b[1;33m.\u001b[0m\u001b[0mx\u001b[0m\u001b[1;33m,\u001b[0m\u001b[0mposition\u001b[0m\u001b[1;33m.\u001b[0m\u001b[0my\u001b[0m\u001b[1;33m)\u001b[0m\u001b[1;33m.\u001b[0m\u001b[0mneighbours\u001b[0m\u001b[1;33m\u001b[0m\u001b[1;33m\u001b[0m\u001b[0m\n\u001b[1;32m---> 17\u001b[1;33m     \u001b[1;32mif\u001b[0m \u001b[1;33m(\u001b[0m\u001b[0mposition\u001b[0m\u001b[1;33m.\u001b[0m\u001b[0mx\u001b[0m \u001b[1;33m+\u001b[0m \u001b[0mxdir\u001b[0m\u001b[1;33m,\u001b[0m \u001b[0mposition\u001b[0m\u001b[1;33m.\u001b[0m\u001b[0my\u001b[0m \u001b[1;33m+\u001b[0m \u001b[0mydir\u001b[0m\u001b[1;33m)\u001b[0m \u001b[1;32min\u001b[0m \u001b[0mpossibilities\u001b[0m\u001b[1;33m:\u001b[0m\u001b[1;33m\u001b[0m\u001b[1;33m\u001b[0m\u001b[0m\n\u001b[0m\u001b[0;32m     18\u001b[0m         \u001b[0mposition_new\u001b[0m \u001b[1;33m=\u001b[0m \u001b[0mField\u001b[0m\u001b[1;33m(\u001b[0m\u001b[0mposition\u001b[0m\u001b[1;33m.\u001b[0m\u001b[0mx\u001b[0m \u001b[1;33m+\u001b[0m \u001b[0mxdir\u001b[0m\u001b[1;33m,\u001b[0m \u001b[0mposition\u001b[0m\u001b[1;33m.\u001b[0m\u001b[0my\u001b[0m \u001b[1;33m+\u001b[0m \u001b[0mydir\u001b[0m\u001b[1;33m)\u001b[0m\u001b[1;33m\u001b[0m\u001b[1;33m\u001b[0m\u001b[0m\n\u001b[0;32m     19\u001b[0m         \u001b[1;31m#print(position)\u001b[0m\u001b[1;33m\u001b[0m\u001b[1;33m\u001b[0m\u001b[1;33m\u001b[0m\u001b[0m\n",
      "\u001b[1;31mUnboundLocalError\u001b[0m: local variable 'xdir' referenced before assignment"
     ]
    }
   ],
   "source": [
    "# initialize position\n",
    "# field(2,2) is top left corner\n",
    "position = starting_point\n",
    "\n",
    "from IPython.display import clear_output\n",
    "plot_board(position,lab)\n",
    "while True:\n",
    "    direction = key_detect()\n",
    "    position = walk_to_fork(position,direction)\n",
    "    clear_output(wait=True)\n",
    "    plot_board(position,lab)\n",
    "    time.sleep(1)"
   ]
  }
 ],
 "metadata": {
  "kernelspec": {
   "display_name": "Python 3",
   "language": "python",
   "name": "python3"
  },
  "language_info": {
   "codemirror_mode": {
    "name": "ipython",
    "version": 3
   },
   "file_extension": ".py",
   "mimetype": "text/x-python",
   "name": "python",
   "nbconvert_exporter": "python",
   "pygments_lexer": "ipython3",
   "version": "3.7.6"
  }
 },
 "nbformat": 4,
 "nbformat_minor": 2
}
