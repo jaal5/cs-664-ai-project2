{
 "cells": [
  {
   "cell_type": "code",
   "execution_count": 181,
   "metadata": {},
   "outputs": [],
   "source": [
    "import keyboard\n",
    "import time"
   ]
  },
  {
   "cell_type": "code",
   "execution_count": 300,
   "metadata": {},
   "outputs": [],
   "source": [
    "lab = [[1,1,1,1,1,1,1,1,1,1,1,1,1,1],\n",
    "       [1,1,1,1,1,1,1,1,1,1,1,1,1,1],\n",
    "       [1,1,0,0,0,0,0,0,0,0,0,0,1,1],\n",
    "       [1,1,0,1,1,1,1,1,1,0,1,1,1,1],\n",
    "       [1,1,0,1,0,0,0,0,0,0,0,0,1,1],\n",
    "       [1,1,0,1,0,1,1,1,1,1,1,0,1,1],\n",
    "       [1,1,0,1,0,1,0,0,0,0,0,0,1,1],\n",
    "       [1,1,0,0,0,1,1,0,1,1,1,0,1,1],\n",
    "       [1,1,0,1,0,0,0,0,1,0,1,1,1,1],\n",
    "       [1,1,0,1,1,0,1,0,0,0,0,0,1,1],\n",
    "       [1,1,0,1,0,0,1,1,1,1,1,0,1,1],\n",
    "       [1,1,0,0,0,1,1,0,0,0,0,3,1,1],\n",
    "       [1,1,1,1,1,1,1,1,1,1,1,1,1,1],\n",
    "       [1,1,1,1,1,1,1,1,1,1,1,1,1,1]]"
   ]
  },
  {
   "cell_type": "code",
   "execution_count": 301,
   "metadata": {},
   "outputs": [],
   "source": [
    "def key_detect():\n",
    "    while True:  # making a loop\n",
    "        if keyboard.is_pressed('up arrow'):\n",
    "            print('Up!')\n",
    "            direction = 'up'\n",
    "            break  # finishing the loop\n",
    "        if keyboard.is_pressed('down arrow'):\n",
    "            print('Down!')\n",
    "            direction = 'down'\n",
    "            break  # finishing the loop\n",
    "        if keyboard.is_pressed('left arrow'):\n",
    "            print('Left!')\n",
    "            direction = 'left'\n",
    "            break  # finishing the loop\n",
    "        if keyboard.is_pressed('right arrow'):\n",
    "            print('Right!')\n",
    "            direction = 'right'\n",
    "            break  # finishing the loop\n",
    "        if keyboard.is_pressed('esc'):\n",
    "            print('Exit game')\n",
    "            direction = -1\n",
    "            break\n",
    "    return direction"
   ]
  },
  {
   "cell_type": "code",
   "execution_count": 302,
   "metadata": {},
   "outputs": [],
   "source": [
    "allneighb = []\n",
    "for y in range(-2,3):\n",
    "    for x in range(-2,3):\n",
    "        allneighb.append((x,y))\n",
    "\n",
    "class Node:\n",
    "    def __init__ (self, x, y):\n",
    "        self.x = x\n",
    "        self.y = y\n",
    "        self.neighbours = [ (x + xoff, y + yoff) for xoff, yoff in\n",
    "            ( (1, 0), (0, 1), (0, -1), (-1, 0) )\n",
    "            if lab [y + yoff] [x + xoff] != 1 ]\n",
    "        self.all_neighbours = [ (x + xoff, y + yoff) for xoff, yoff in\n",
    "            tuple(allneighb)]\n",
    "        self.distance = ...\n",
    "        self.path = ...\n",
    "        self.visited = False\n",
    "\n",
    "    def __repr__ (self):\n",
    "        return '{}: ({})'.format ( (self.x, self.y), self.neighbours)\n",
    "    \n",
    "nodes = {}\n",
    "for y in range (14):\n",
    "    for x in range (14):\n",
    "        if lab [y] [x]: continue\n",
    "        nodes [x, y] = Node (x, y)"
   ]
  },
  {
   "cell_type": "code",
   "execution_count": 282,
   "metadata": {},
   "outputs": [],
   "source": []
  },
  {
   "cell_type": "code",
   "execution_count": 45,
   "metadata": {},
   "outputs": [
    {
     "data": {
      "text/plain": [
       "(1, 1): ([(2, 1), (1, 2)])"
      ]
     },
     "execution_count": 45,
     "metadata": {},
     "output_type": "execute_result"
    }
   ],
   "source": []
  },
  {
   "cell_type": "code",
   "execution_count": 164,
   "metadata": {},
   "outputs": [],
   "source": [
    "def move(position,direction):\n",
    "    if direction == 'up':\n",
    "        xdir = 0\n",
    "        ydir = -1\n",
    "    if direction == 'down':\n",
    "        xdir = 0\n",
    "        ydir = 1\n",
    "    if direction == 'right':\n",
    "        xdir = 1\n",
    "        ydir = 0\n",
    "    if direction == 'left':\n",
    "        xdir = -1\n",
    "        ydir = 0\n",
    "    \n",
    "    # move if possible\n",
    "    possibilities = Node(position.x,position.y).neighbours\n",
    "    if (position.x + xdir, position.y + ydir) in possibilities:\n",
    "        position_new = Node(position.x + xdir, position.y + ydir)\n",
    "        print(position)\n",
    "        return position_new, position_new\n",
    "    else:\n",
    "        position_new = position\n",
    "        return 'invalid', position_new"
   ]
  },
  {
   "cell_type": "code",
   "execution_count": 165,
   "metadata": {},
   "outputs": [],
   "source": [
    "def walk_to_fork(position,direction):\n",
    "    while True:\n",
    "        position, position_fork = move(position,direction)\n",
    "        if position == 'invalid':\n",
    "            print('invalid move')\n",
    "            break\n",
    "        if len(position.neighbours) > 2:\n",
    "            print('this is a fork')\n",
    "            break\n",
    "    return position_fork"
   ]
  },
  {
   "cell_type": "code",
   "execution_count": 303,
   "metadata": {},
   "outputs": [],
   "source": [
    "position = nodes[2,2]"
   ]
  },
  {
   "cell_type": "code",
   "execution_count": 304,
   "metadata": {
    "scrolled": true
   },
   "outputs": [
    {
     "data": {
      "image/png": "[encoded data removed]",
      "text/plain": [
       "<Figure size 720x360 with 1 Axes>"
      ]
     },
     "metadata": {
      "needs_background": "light"
     },
     "output_type": "display_data"
    },
    {
     "ename": "KeyboardInterrupt",
     "evalue": "",
     "output_type": "error",
     "traceback": [
      "\u001b[1;31m---------------------------------------------------------------------------\u001b[0m",
      "\u001b[1;31mKeyboardInterrupt\u001b[0m                         Traceback (most recent call last)",
      "\u001b[1;32m<ipython-input-304-ede5c08c99d9>\u001b[0m in \u001b[0;36m<module>\u001b[1;34m\u001b[0m\n\u001b[0;32m      2\u001b[0m \u001b[0mplot_board_hidden\u001b[0m\u001b[1;33m(\u001b[0m\u001b[0mposition\u001b[0m\u001b[1;33m,\u001b[0m\u001b[0mlab\u001b[0m\u001b[1;33m)\u001b[0m\u001b[1;33m\u001b[0m\u001b[1;33m\u001b[0m\u001b[0m\n\u001b[0;32m      3\u001b[0m \u001b[1;32mwhile\u001b[0m \u001b[1;32mTrue\u001b[0m\u001b[1;33m:\u001b[0m\u001b[1;33m\u001b[0m\u001b[1;33m\u001b[0m\u001b[0m\n\u001b[1;32m----> 4\u001b[1;33m     \u001b[0mdirection\u001b[0m \u001b[1;33m=\u001b[0m \u001b[0mkey_detect\u001b[0m\u001b[1;33m(\u001b[0m\u001b[1;33m)\u001b[0m\u001b[1;33m\u001b[0m\u001b[1;33m\u001b[0m\u001b[0m\n\u001b[0m\u001b[0;32m      5\u001b[0m     \u001b[0mposition\u001b[0m \u001b[1;33m=\u001b[0m \u001b[0mwalk_to_fork\u001b[0m\u001b[1;33m(\u001b[0m\u001b[0mposition\u001b[0m\u001b[1;33m,\u001b[0m\u001b[0mdirection\u001b[0m\u001b[1;33m)\u001b[0m\u001b[1;33m\u001b[0m\u001b[1;33m\u001b[0m\u001b[0m\n\u001b[0;32m      6\u001b[0m     \u001b[0mclear_output\u001b[0m\u001b[1;33m(\u001b[0m\u001b[0mwait\u001b[0m\u001b[1;33m=\u001b[0m\u001b[1;32mTrue\u001b[0m\u001b[1;33m)\u001b[0m\u001b[1;33m\u001b[0m\u001b[1;33m\u001b[0m\u001b[0m\n",
      "\u001b[1;32m<ipython-input-301-ecc9218351b3>\u001b[0m in \u001b[0;36mkey_detect\u001b[1;34m()\u001b[0m\n\u001b[0;32m      1\u001b[0m \u001b[1;32mdef\u001b[0m \u001b[0mkey_detect\u001b[0m\u001b[1;33m(\u001b[0m\u001b[1;33m)\u001b[0m\u001b[1;33m:\u001b[0m\u001b[1;33m\u001b[0m\u001b[1;33m\u001b[0m\u001b[0m\n\u001b[0;32m      2\u001b[0m     \u001b[1;32mwhile\u001b[0m \u001b[1;32mTrue\u001b[0m\u001b[1;33m:\u001b[0m  \u001b[1;31m# making a loop\u001b[0m\u001b[1;33m\u001b[0m\u001b[1;33m\u001b[0m\u001b[0m\n\u001b[1;32m----> 3\u001b[1;33m         \u001b[1;32mif\u001b[0m \u001b[0mkeyboard\u001b[0m\u001b[1;33m.\u001b[0m\u001b[0mis_pressed\u001b[0m\u001b[1;33m(\u001b[0m\u001b[1;34m'up arrow'\u001b[0m\u001b[1;33m)\u001b[0m\u001b[1;33m:\u001b[0m\u001b[1;33m\u001b[0m\u001b[1;33m\u001b[0m\u001b[0m\n\u001b[0m\u001b[0;32m      4\u001b[0m             \u001b[0mprint\u001b[0m\u001b[1;33m(\u001b[0m\u001b[1;34m'Up!'\u001b[0m\u001b[1;33m)\u001b[0m\u001b[1;33m\u001b[0m\u001b[1;33m\u001b[0m\u001b[0m\n\u001b[0;32m      5\u001b[0m             \u001b[0mdirection\u001b[0m \u001b[1;33m=\u001b[0m \u001b[1;34m'up'\u001b[0m\u001b[1;33m\u001b[0m\u001b[1;33m\u001b[0m\u001b[0m\n",
      "\u001b[1;32m~\\Anaconda3\\lib\\site-packages\\keyboard\\__init__.py\u001b[0m in \u001b[0;36mis_pressed\u001b[1;34m(hotkey)\u001b[0m\n\u001b[0;32m    415\u001b[0m             \u001b[1;32mreturn\u001b[0m \u001b[0mhotkey\u001b[0m \u001b[1;32min\u001b[0m \u001b[0m_pressed_events\u001b[0m\u001b[1;33m\u001b[0m\u001b[1;33m\u001b[0m\u001b[0m\n\u001b[0;32m    416\u001b[0m \u001b[1;33m\u001b[0m\u001b[0m\n\u001b[1;32m--> 417\u001b[1;33m     \u001b[0msteps\u001b[0m \u001b[1;33m=\u001b[0m \u001b[0mparse_hotkey\u001b[0m\u001b[1;33m(\u001b[0m\u001b[0mhotkey\u001b[0m\u001b[1;33m)\u001b[0m\u001b[1;33m\u001b[0m\u001b[1;33m\u001b[0m\u001b[0m\n\u001b[0m\u001b[0;32m    418\u001b[0m     \u001b[1;32mif\u001b[0m \u001b[0mlen\u001b[0m\u001b[1;33m(\u001b[0m\u001b[0msteps\u001b[0m\u001b[1;33m)\u001b[0m \u001b[1;33m>\u001b[0m \u001b[1;36m1\u001b[0m\u001b[1;33m:\u001b[0m\u001b[1;33m\u001b[0m\u001b[1;33m\u001b[0m\u001b[0m\n\u001b[0;32m    419\u001b[0m         \u001b[1;32mraise\u001b[0m \u001b[0mValueError\u001b[0m\u001b[1;33m(\u001b[0m\u001b[1;34m\"Impossible to check if multi-step hotkeys are pressed (`a+b` is ok, `a, b` isn't).\"\u001b[0m\u001b[1;33m)\u001b[0m\u001b[1;33m\u001b[0m\u001b[1;33m\u001b[0m\u001b[0m\n",
      "\u001b[1;32m~\\Anaconda3\\lib\\site-packages\\keyboard\\__init__.py\u001b[0m in \u001b[0;36mparse_hotkey\u001b[1;34m(hotkey)\u001b[0m\n\u001b[0;32m    354\u001b[0m \u001b[1;33m\u001b[0m\u001b[0m\n\u001b[0;32m    355\u001b[0m     \u001b[0msteps\u001b[0m \u001b[1;33m=\u001b[0m \u001b[1;33m[\u001b[0m\u001b[1;33m]\u001b[0m\u001b[1;33m\u001b[0m\u001b[1;33m\u001b[0m\u001b[0m\n\u001b[1;32m--> 356\u001b[1;33m     \u001b[1;32mfor\u001b[0m \u001b[0mstep\u001b[0m \u001b[1;32min\u001b[0m \u001b[0m_re\u001b[0m\u001b[1;33m.\u001b[0m\u001b[0msplit\u001b[0m\u001b[1;33m(\u001b[0m\u001b[1;34mr',\\s?'\u001b[0m\u001b[1;33m,\u001b[0m \u001b[0mhotkey\u001b[0m\u001b[1;33m)\u001b[0m\u001b[1;33m:\u001b[0m\u001b[1;33m\u001b[0m\u001b[1;33m\u001b[0m\u001b[0m\n\u001b[0m\u001b[0;32m    357\u001b[0m         \u001b[0mkeys\u001b[0m \u001b[1;33m=\u001b[0m \u001b[0m_re\u001b[0m\u001b[1;33m.\u001b[0m\u001b[0msplit\u001b[0m\u001b[1;33m(\u001b[0m\u001b[1;34mr'\\s?\\+\\s?'\u001b[0m\u001b[1;33m,\u001b[0m \u001b[0mstep\u001b[0m\u001b[1;33m)\u001b[0m\u001b[1;33m\u001b[0m\u001b[1;33m\u001b[0m\u001b[0m\n\u001b[0;32m    358\u001b[0m         \u001b[0msteps\u001b[0m\u001b[1;33m.\u001b[0m\u001b[0mappend\u001b[0m\u001b[1;33m(\u001b[0m\u001b[0mtuple\u001b[0m\u001b[1;33m(\u001b[0m\u001b[0mkey_to_scan_codes\u001b[0m\u001b[1;33m(\u001b[0m\u001b[0mkey\u001b[0m\u001b[1;33m)\u001b[0m \u001b[1;32mfor\u001b[0m \u001b[0mkey\u001b[0m \u001b[1;32min\u001b[0m \u001b[0mkeys\u001b[0m\u001b[1;33m)\u001b[0m\u001b[1;33m)\u001b[0m\u001b[1;33m\u001b[0m\u001b[1;33m\u001b[0m\u001b[0m\n",
      "\u001b[1;32m~\\Anaconda3\\lib\\re.py\u001b[0m in \u001b[0;36msplit\u001b[1;34m(pattern, string, maxsplit, flags)\u001b[0m\n\u001b[0;32m    211\u001b[0m     \u001b[1;32mand\u001b[0m \u001b[0mthe\u001b[0m \u001b[0mremainder\u001b[0m \u001b[0mof\u001b[0m \u001b[0mthe\u001b[0m \u001b[0mstring\u001b[0m \u001b[1;32mis\u001b[0m \u001b[0mreturned\u001b[0m \u001b[1;32mas\u001b[0m \u001b[0mthe\u001b[0m \u001b[0mfinal\u001b[0m \u001b[0melement\u001b[0m\u001b[1;33m\u001b[0m\u001b[1;33m\u001b[0m\u001b[0m\n\u001b[0;32m    212\u001b[0m     of the list.\"\"\"\n\u001b[1;32m--> 213\u001b[1;33m     \u001b[1;32mreturn\u001b[0m \u001b[0m_compile\u001b[0m\u001b[1;33m(\u001b[0m\u001b[0mpattern\u001b[0m\u001b[1;33m,\u001b[0m \u001b[0mflags\u001b[0m\u001b[1;33m)\u001b[0m\u001b[1;33m.\u001b[0m\u001b[0msplit\u001b[0m\u001b[1;33m(\u001b[0m\u001b[0mstring\u001b[0m\u001b[1;33m,\u001b[0m \u001b[0mmaxsplit\u001b[0m\u001b[1;33m)\u001b[0m\u001b[1;33m\u001b[0m\u001b[1;33m\u001b[0m\u001b[0m\n\u001b[0m\u001b[0;32m    214\u001b[0m \u001b[1;33m\u001b[0m\u001b[0m\n\u001b[0;32m    215\u001b[0m \u001b[1;32mdef\u001b[0m \u001b[0mfindall\u001b[0m\u001b[1;33m(\u001b[0m\u001b[0mpattern\u001b[0m\u001b[1;33m,\u001b[0m \u001b[0mstring\u001b[0m\u001b[1;33m,\u001b[0m \u001b[0mflags\u001b[0m\u001b[1;33m=\u001b[0m\u001b[1;36m0\u001b[0m\u001b[1;33m)\u001b[0m\u001b[1;33m:\u001b[0m\u001b[1;33m\u001b[0m\u001b[1;33m\u001b[0m\u001b[0m\n",
      "\u001b[1;31mKeyboardInterrupt\u001b[0m: "
     ]
    }
   ],
   "source": [
    "from IPython.display import clear_output\n",
    "plot_board_hidden(position,lab)\n",
    "while True:\n",
    "    direction = key_detect()\n",
    "    position = walk_to_fork(position,direction)\n",
    "    clear_output(wait=True)\n",
    "    plot_board_hidden(position,lab)\n",
    "    time.sleep(1)"
   ]
  },
  {
   "cell_type": "code",
   "execution_count": 200,
   "metadata": {},
   "outputs": [],
   "source": [
    "def print_board(position,lab):\n",
    "    for y in range (12):\n",
    "        print(\"\\n\", end=\"\")\n",
    "        for x in range (12):\n",
    "            if y == position.y and x == position.x:\n",
    "                print('D', end=\"\")\n",
    "            elif lab[y][x] == 1:\n",
    "                print('#', end=\"\")\n",
    "            elif lab[y][x] == 0:\n",
    "                print(' ', end=\"\")"
   ]
  },
  {
   "cell_type": "code",
   "execution_count": 290,
   "metadata": {},
   "outputs": [],
   "source": [
    "%matplotlib inline\n",
    "import matplotlib.pyplot as plt\n",
    "import copy\n",
    "def plot_board(position,lab):\n",
    "    try:\n",
    "        fig.clear()\n",
    "    except:\n",
    "        fig = plt.figure(figsize=(10,5))\n",
    "\n",
    "        ax1 = fig.add_subplot(1,1,1)\n",
    "\n",
    "        # Make a 9x9 grid...\n",
    "        image = copy.deepcopy(lab)\n",
    "        image[position.y][position.x] = 2\n",
    "        image[10][10] = 3\n",
    "        ax1.matshow(image)\n",
    "        plt.show()"
   ]
  },
  {
   "cell_type": "code",
   "execution_count": 291,
   "metadata": {},
   "outputs": [],
   "source": [
    "%matplotlib inline\n",
    "import matplotlib.pyplot as plt\n",
    "def plot_board_hidden(position,lab):\n",
    "    try:\n",
    "        fig.clear()\n",
    "    except:\n",
    "        fig = plt.figure(figsize=(10,5))\n",
    "\n",
    "        ax1 = fig.add_subplot(1,1,1)\n",
    "\n",
    "        image = np.ones((14,14),dtype=int)\n",
    "        for (x,y) in position.all_neighbours:\n",
    "            image[y][x] = lab[y][x]\n",
    "        image[position.y][position.x] = 2\n",
    "        \n",
    "        ax1.matshow(image)\n",
    "        plt.show()"
   ]
  },
  {
   "cell_type": "code",
   "execution_count": null,
   "metadata": {},
   "outputs": [],
   "source": []
  }
 ],
 "metadata": {
  "kernelspec": {
   "display_name": "Python 3",
   "language": "python",
   "name": "python3"
  },
  "language_info": {
   "codemirror_mode": {
    "name": "ipython",
    "version": 3
   },
   "file_extension": ".py",
   "mimetype": "text/x-python",
   "name": "python",
   "nbconvert_exporter": "python",
   "pygments_lexer": "ipython3",
   "version": "3.7.4"
  }
 },
 "nbformat": 4,
 "nbformat_minor": 2
}
